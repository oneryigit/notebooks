{
 "cells": [
  {
   "cell_type": "markdown",
   "id": "included-bermuda",
   "metadata": {},
   "source": [
    "#### Lab 2, for 501\n",
    "#### Merging and CLT"
   ]
  },
  {
   "cell_type": "markdown",
   "id": "rural-founder",
   "metadata": {},
   "source": [
    "# Part I"
   ]
  },
  {
   "cell_type": "markdown",
   "id": "signed-desktop",
   "metadata": {},
   "source": [
    "### Package loading"
   ]
  },
  {
   "cell_type": "code",
   "execution_count": 11,
   "id": "demanding-workstation",
   "metadata": {},
   "outputs": [],
   "source": [
    "#These are some package I load to do data analysis.\n",
    "\n",
    "import numpy as np\n",
    "import pandas as pd\n",
    "import matplotlib.pyplot as plt\n",
    "import seaborn as sns\n",
    "sns.set()\n",
    "import warnings\n",
    "\n",
    "warnings.filterwarnings('ignore')"
   ]
  },
  {
   "cell_type": "markdown",
   "id": "tamil-monthly",
   "metadata": {},
   "source": [
    "### Loading the datasets"
   ]
  },
  {
   "cell_type": "code",
   "execution_count": 5,
   "id": "subsequent-closing",
   "metadata": {},
   "outputs": [],
   "source": [
    "vdem=pd.read_stata('vdem1.dta')\n",
    "qog=pd.read_stata('qog1.dta')\n",
    "median=pd.read_stata('medianvoter.dta')"
   ]
  },
  {
   "cell_type": "markdown",
   "id": "finished-breakfast",
   "metadata": {},
   "source": [
    "### Droping Missing values"
   ]
  },
  {
   "cell_type": "code",
   "execution_count": 6,
   "id": "weighted-auditor",
   "metadata": {},
   "outputs": [],
   "source": [
    "#Regression in Python cannot be done if the data has missing values.\n",
    "#So before merging, I drop missing values from each datasets.\n",
    "\n",
    "vdem.dropna(inplace=True)\n",
    "qog.dropna(inplace=True)\n",
    "median.dropna(inplace=True)"
   ]
  },
  {
   "cell_type": "markdown",
   "id": "congressional-lightning",
   "metadata": {},
   "source": [
    "### Data Preprocessing"
   ]
  },
  {
   "cell_type": "code",
   "execution_count": 7,
   "id": "flush-grade",
   "metadata": {},
   "outputs": [],
   "source": [
    "#in qog dataset the year variable is string. So, I tranform it into numeric. \n",
    "qog['year']=qog['year'].astype('int')"
   ]
  },
  {
   "cell_type": "code",
   "execution_count": 15,
   "id": "attractive-graphics",
   "metadata": {},
   "outputs": [],
   "source": [
    "#I take variables I need from the turnout dataset.\n",
    "#I slice the data so that I can understand what is going on easily when merging.\n",
    "#I name new dataset as \"med2\"\n",
    "\n",
    "med2=median[['natname', 'elecdate', 'turnout', 'elecsize']]"
   ]
  },
  {
   "cell_type": "code",
   "execution_count": 16,
   "id": "basic-collins",
   "metadata": {},
   "outputs": [],
   "source": [
    "#Because the 'elecdate' variable is in year and month format,\n",
    "#I first transform 'elecdate' variable into a 'string' variable.\n",
    "#I assign a new name, which is 'elecyear'\n",
    "med2['elecyear']=med2['elecdate'].astype('string')\n",
    "\n",
    "#Then, I slice it up. Basically, I say take only first 4. No more last two digits. \n",
    "med2['elecyear']=med2[\"elecyear\"].str.slice(0,4)\n",
    "\n",
    "#So now, I no longer need 'elecdate' variable in my dataset. I created new one.\n",
    "med2.drop('elecdate', axis=1, inplace=True)\n",
    "\n",
    "#remember our new 'elecyear' is still string. Let's make it numeric again.\n",
    "med2['elecyear']=med2['elecyear'].astype('int')"
   ]
  },
  {
   "cell_type": "markdown",
   "id": "recorded-marker",
   "metadata": {},
   "source": [
    "### Transformation of DV"
   ]
  },
  {
   "cell_type": "code",
   "execution_count": 17,
   "id": "material-basics",
   "metadata": {},
   "outputs": [],
   "source": [
    "#To find the percent of turnout, I divide turnout to elecsize and then multiply with 100.\n",
    "#I add a new variable in our dataframe as 'turn_percent'\n",
    "\n",
    "med2['turn_percent']= ((med2['turnout']/med2['elecsize'])*100)"
   ]
  },
  {
   "cell_type": "markdown",
   "id": "bearing-satin",
   "metadata": {},
   "source": [
    "### Med2 dataset transformation "
   ]
  },
  {
   "cell_type": "code",
   "execution_count": 18,
   "id": "native-currency",
   "metadata": {},
   "outputs": [],
   "source": [
    "#This dataset is really mess in terms of observations. \n",
    "#We need to make the rows as one country given a spesific year turnout percent.\n",
    "#So, I first group the data with pivot function.\n",
    "#I set the name of the country and elecyear as index.\n",
    "#Ths way, it will group the data as given one country in a spesific year.\n",
    "\n",
    "med2=med2.pivot_table(index=['natname','elecyear'])\n",
    "\n",
    "#I reset the index,\n",
    "#meaning that after the grouping,\n",
    "#I put the two variables back to the dataframe as I need them for merging. \n",
    "med2=med2.reset_index()"
   ]
  },
  {
   "cell_type": "markdown",
   "id": "mathematical-dover",
   "metadata": {},
   "source": [
    "### Merge I (Vdem + QoG)"
   ]
  },
  {
   "cell_type": "code",
   "execution_count": 19,
   "id": "pressing-employment",
   "metadata": {},
   "outputs": [],
   "source": [
    "#I create a new dataframe from merged datasets, named as 'vq'.\n",
    "#I merge the data on 'cowcode' and 'year'.\n",
    "#Python asks me how to merge, I say take only matched 'inner' observations.\n",
    "\n",
    "vq=pd.merge(vdem, qog, how='inner',on=['cowcode','year'])"
   ]
  },
  {
   "cell_type": "markdown",
   "id": "caring-backing",
   "metadata": {},
   "source": [
    "### Merge II (vq + med2)"
   ]
  },
  {
   "cell_type": "code",
   "execution_count": 23,
   "id": "collaborative-cedar",
   "metadata": {},
   "outputs": [],
   "source": [
    "#I know that it is dangerous to merge on country name\n",
    "#as they can have different carecter. However, it seems that on this dataset, it is safe.\n",
    "#though I remember when you said us to use cowcode from the internet source for stata. :/ \n",
    "\n",
    "#So our final dataset is a combination of vq and med2. \n",
    "#I say again merge only if they match.\n",
    "#Merge them by looking the left dataset, which is vq, based on two variables, country and year.\n",
    "#do the same with the right dataset in the code, 'med2' on natname and elecyear. \n",
    "#I do this because country and year are identical. \n",
    "\n",
    "finaldf=pd.merge(vq, med2, how='inner',\n",
    "                 left_on=['country_x', 'year'],\n",
    "                 right_on=['natname','elecyear'])"
   ]
  },
  {
   "cell_type": "code",
   "execution_count": 24,
   "id": "inappropriate-sustainability",
   "metadata": {},
   "outputs": [],
   "source": [
    "#After a succesful merge, lets drop all the colums that I do not need.\n",
    "#I alread have year and name of the county, \n",
    "#and some variables that I am not interested.\n",
    "finaldf.drop(['country_y','elecyear', 'natname','lifeex', 'popdens' ],\n",
    "             axis=1, inplace=True)"
   ]
  },
  {
   "cell_type": "markdown",
   "id": "cutting-gallery",
   "metadata": {},
   "source": [
    "### Save the final data (in case something happens)"
   ]
  },
  {
   "cell_type": "code",
   "execution_count": 25,
   "id": "static-opportunity",
   "metadata": {},
   "outputs": [],
   "source": [
    "finaldf.to_stata('finaldf.dta')"
   ]
  },
  {
   "cell_type": "markdown",
   "id": "elect-garbage",
   "metadata": {},
   "source": [
    "### Regression"
   ]
  },
  {
   "cell_type": "code",
   "execution_count": 27,
   "id": "mineral-grove",
   "metadata": {},
   "outputs": [],
   "source": [
    "#We are ready to regress!!!\n",
    "\n",
    "#But first lets include another package for regression.\n",
    "import statsmodels.api as sm"
   ]
  },
  {
   "cell_type": "code",
   "execution_count": 28,
   "id": "artificial-airport",
   "metadata": {},
   "outputs": [],
   "source": [
    "#This is my y variable. Dependent Variable.\n",
    "y=finaldf['turn_percent']"
   ]
  },
  {
   "cell_type": "code",
   "execution_count": 29,
   "id": "black-penguin",
   "metadata": {},
   "outputs": [],
   "source": [
    "#This is the independent variables for the first model,\n",
    "#without female property rights\n",
    "#I called it as x1.\n",
    "\n",
    "x1=finaldf[['oppospower',\n",
    "       'sepowerdist', 'gdpcap', 'youthunemp']]"
   ]
  },
  {
   "cell_type": "code",
   "execution_count": 30,
   "id": "gorgeous-galaxy",
   "metadata": {},
   "outputs": [],
   "source": [
    "#This is for our second model, with female property rights.\n",
    "x2=finaldf[['propwomen','oppospower',\n",
    "       'sepowerdist', 'gdpcap', 'youthunemp']]"
   ]
  },
  {
   "cell_type": "code",
   "execution_count": 31,
   "id": "ignored-province",
   "metadata": {},
   "outputs": [],
   "source": [
    "#statsmodel does not have constant. So we add manually.\n",
    "#Sorry to confuse you but, I assign our first model's IVs to 'x' now.\n",
    "#x will contain all the IVs and constant now.\n",
    "x=sm.add_constant(x1)"
   ]
  },
  {
   "cell_type": "code",
   "execution_count": 32,
   "id": "located-binding",
   "metadata": {},
   "outputs": [],
   "source": [
    "#I add constant to the second model as well.\n",
    "#And name the IVs as x_withfemale.\n",
    "x_withfemale=sm.add_constant(x2)"
   ]
  },
  {
   "cell_type": "markdown",
   "id": "czech-attack",
   "metadata": {},
   "source": [
    "### Model I (Base model)"
   ]
  },
  {
   "cell_type": "code",
   "execution_count": 34,
   "id": "expired-saskatchewan",
   "metadata": {},
   "outputs": [
    {
     "data": {
      "text/html": [
       "<table class=\"simpletable\">\n",
       "<caption>OLS Regression Results</caption>\n",
       "<tr>\n",
       "  <th>Dep. Variable:</th>      <td>turn_percent</td>   <th>  R-squared:         </th> <td>   0.056</td>\n",
       "</tr>\n",
       "<tr>\n",
       "  <th>Model:</th>                   <td>OLS</td>       <th>  Adj. R-squared:    </th> <td>   0.030</td>\n",
       "</tr>\n",
       "<tr>\n",
       "  <th>Method:</th>             <td>Least Squares</td>  <th>  F-statistic:       </th> <td>   2.119</td>\n",
       "</tr>\n",
       "<tr>\n",
       "  <th>Date:</th>             <td>Mon, 08 Mar 2021</td> <th>  Prob (F-statistic):</th>  <td>0.0815</td> \n",
       "</tr>\n",
       "<tr>\n",
       "  <th>Time:</th>                 <td>21:53:45</td>     <th>  Log-Likelihood:    </th> <td> -699.51</td>\n",
       "</tr>\n",
       "<tr>\n",
       "  <th>No. Observations:</th>      <td>   148</td>      <th>  AIC:               </th> <td>   1409.</td>\n",
       "</tr>\n",
       "<tr>\n",
       "  <th>Df Residuals:</th>          <td>   143</td>      <th>  BIC:               </th> <td>   1424.</td>\n",
       "</tr>\n",
       "<tr>\n",
       "  <th>Df Model:</th>              <td>     4</td>      <th>                     </th>     <td> </td>   \n",
       "</tr>\n",
       "<tr>\n",
       "  <th>Covariance Type:</th>      <td>nonrobust</td>    <th>                     </th>     <td> </td>   \n",
       "</tr>\n",
       "</table>\n",
       "<table class=\"simpletable\">\n",
       "<tr>\n",
       "       <td></td>          <th>coef</th>     <th>std err</th>      <th>t</th>      <th>P>|t|</th>  <th>[0.025</th>    <th>0.975]</th>  \n",
       "</tr>\n",
       "<tr>\n",
       "  <th>const</th>       <td>   75.2472</td> <td>   15.935</td> <td>    4.722</td> <td> 0.000</td> <td>   43.749</td> <td>  106.745</td>\n",
       "</tr>\n",
       "<tr>\n",
       "  <th>oppospower</th>  <td>  -11.0977</td> <td>    6.053</td> <td>   -1.833</td> <td> 0.069</td> <td>  -23.062</td> <td>    0.867</td>\n",
       "</tr>\n",
       "<tr>\n",
       "  <th>sepowerdist</th> <td>    7.9772</td> <td>    3.590</td> <td>    2.222</td> <td> 0.028</td> <td>    0.882</td> <td>   15.073</td>\n",
       "</tr>\n",
       "<tr>\n",
       "  <th>gdpcap</th>      <td> 2.252e-05</td> <td>    0.000</td> <td>    0.139</td> <td> 0.889</td> <td>   -0.000</td> <td>    0.000</td>\n",
       "</tr>\n",
       "<tr>\n",
       "  <th>youthunemp</th>  <td>    0.0220</td> <td>    0.271</td> <td>    0.081</td> <td> 0.935</td> <td>   -0.514</td> <td>    0.558</td>\n",
       "</tr>\n",
       "</table>\n",
       "<table class=\"simpletable\">\n",
       "<tr>\n",
       "  <th>Omnibus:</th>       <td>32.907</td> <th>  Durbin-Watson:     </th> <td>   0.386</td>\n",
       "</tr>\n",
       "<tr>\n",
       "  <th>Prob(Omnibus):</th> <td> 0.000</td> <th>  Jarque-Bera (JB):  </th> <td>  47.069</td>\n",
       "</tr>\n",
       "<tr>\n",
       "  <th>Skew:</th>          <td>-1.354</td> <th>  Prob(JB):          </th> <td>6.01e-11</td>\n",
       "</tr>\n",
       "<tr>\n",
       "  <th>Kurtosis:</th>      <td> 3.548</td> <th>  Cond. No.          </th> <td>2.29e+05</td>\n",
       "</tr>\n",
       "</table><br/><br/>Notes:<br/>[1] Standard Errors assume that the covariance matrix of the errors is correctly specified.<br/>[2] The condition number is large, 2.29e+05. This might indicate that there are<br/>strong multicollinearity or other numerical problems."
      ],
      "text/plain": [
       "<class 'statsmodels.iolib.summary.Summary'>\n",
       "\"\"\"\n",
       "                            OLS Regression Results                            \n",
       "==============================================================================\n",
       "Dep. Variable:           turn_percent   R-squared:                       0.056\n",
       "Model:                            OLS   Adj. R-squared:                  0.030\n",
       "Method:                 Least Squares   F-statistic:                     2.119\n",
       "Date:                Mon, 08 Mar 2021   Prob (F-statistic):             0.0815\n",
       "Time:                        21:53:45   Log-Likelihood:                -699.51\n",
       "No. Observations:                 148   AIC:                             1409.\n",
       "Df Residuals:                     143   BIC:                             1424.\n",
       "Df Model:                           4                                         \n",
       "Covariance Type:            nonrobust                                         \n",
       "===============================================================================\n",
       "                  coef    std err          t      P>|t|      [0.025      0.975]\n",
       "-------------------------------------------------------------------------------\n",
       "const          75.2472     15.935      4.722      0.000      43.749     106.745\n",
       "oppospower    -11.0977      6.053     -1.833      0.069     -23.062       0.867\n",
       "sepowerdist     7.9772      3.590      2.222      0.028       0.882      15.073\n",
       "gdpcap       2.252e-05      0.000      0.139      0.889      -0.000       0.000\n",
       "youthunemp      0.0220      0.271      0.081      0.935      -0.514       0.558\n",
       "==============================================================================\n",
       "Omnibus:                       32.907   Durbin-Watson:                   0.386\n",
       "Prob(Omnibus):                  0.000   Jarque-Bera (JB):               47.069\n",
       "Skew:                          -1.354   Prob(JB):                     6.01e-11\n",
       "Kurtosis:                       3.548   Cond. No.                     2.29e+05\n",
       "==============================================================================\n",
       "\n",
       "Notes:\n",
       "[1] Standard Errors assume that the covariance matrix of the errors is correctly specified.\n",
       "[2] The condition number is large, 2.29e+05. This might indicate that there are\n",
       "strong multicollinearity or other numerical problems.\n",
       "\"\"\""
      ]
     },
     "execution_count": 34,
     "metadata": {},
     "output_type": "execute_result"
    }
   ],
   "source": [
    "model1=sm.OLS(y,x).fit()\n",
    "model1.summary()"
   ]
  },
  {
   "cell_type": "markdown",
   "id": "random-thumb",
   "metadata": {},
   "source": [
    "### Model II (With Female Property Rights)"
   ]
  },
  {
   "cell_type": "code",
   "execution_count": 35,
   "id": "relative-humanity",
   "metadata": {},
   "outputs": [
    {
     "data": {
      "text/html": [
       "<table class=\"simpletable\">\n",
       "<caption>OLS Regression Results</caption>\n",
       "<tr>\n",
       "  <th>Dep. Variable:</th>      <td>turn_percent</td>   <th>  R-squared:         </th> <td>   0.146</td>\n",
       "</tr>\n",
       "<tr>\n",
       "  <th>Model:</th>                   <td>OLS</td>       <th>  Adj. R-squared:    </th> <td>   0.116</td>\n",
       "</tr>\n",
       "<tr>\n",
       "  <th>Method:</th>             <td>Least Squares</td>  <th>  F-statistic:       </th> <td>   4.844</td>\n",
       "</tr>\n",
       "<tr>\n",
       "  <th>Date:</th>             <td>Mon, 08 Mar 2021</td> <th>  Prob (F-statistic):</th> <td>0.000403</td>\n",
       "</tr>\n",
       "<tr>\n",
       "  <th>Time:</th>                 <td>21:54:07</td>     <th>  Log-Likelihood:    </th> <td> -692.11</td>\n",
       "</tr>\n",
       "<tr>\n",
       "  <th>No. Observations:</th>      <td>   148</td>      <th>  AIC:               </th> <td>   1396.</td>\n",
       "</tr>\n",
       "<tr>\n",
       "  <th>Df Residuals:</th>          <td>   142</td>      <th>  BIC:               </th> <td>   1414.</td>\n",
       "</tr>\n",
       "<tr>\n",
       "  <th>Df Model:</th>              <td>     5</td>      <th>                     </th>     <td> </td>   \n",
       "</tr>\n",
       "<tr>\n",
       "  <th>Covariance Type:</th>      <td>nonrobust</td>    <th>                     </th>     <td> </td>   \n",
       "</tr>\n",
       "</table>\n",
       "<table class=\"simpletable\">\n",
       "<tr>\n",
       "       <td></td>          <th>coef</th>     <th>std err</th>      <th>t</th>      <th>P>|t|</th>  <th>[0.025</th>    <th>0.975]</th>  \n",
       "</tr>\n",
       "<tr>\n",
       "  <th>const</th>       <td>   44.8675</td> <td>   17.124</td> <td>    2.620</td> <td> 0.010</td> <td>   11.016</td> <td>   78.719</td>\n",
       "</tr>\n",
       "<tr>\n",
       "  <th>propwomen</th>   <td>   24.2395</td> <td>    6.275</td> <td>    3.863</td> <td> 0.000</td> <td>   11.835</td> <td>   36.644</td>\n",
       "</tr>\n",
       "<tr>\n",
       "  <th>oppospower</th>  <td>  -17.7388</td> <td>    6.029</td> <td>   -2.942</td> <td> 0.004</td> <td>  -29.656</td> <td>   -5.821</td>\n",
       "</tr>\n",
       "<tr>\n",
       "  <th>sepowerdist</th> <td>    2.7071</td> <td>    3.688</td> <td>    0.734</td> <td> 0.464</td> <td>   -4.584</td> <td>    9.998</td>\n",
       "</tr>\n",
       "<tr>\n",
       "  <th>gdpcap</th>      <td>-2.502e-05</td> <td>    0.000</td> <td>   -0.162</td> <td> 0.872</td> <td>   -0.000</td> <td>    0.000</td>\n",
       "</tr>\n",
       "<tr>\n",
       "  <th>youthunemp</th>  <td>    0.0568</td> <td>    0.259</td> <td>    0.219</td> <td> 0.827</td> <td>   -0.455</td> <td>    0.569</td>\n",
       "</tr>\n",
       "</table>\n",
       "<table class=\"simpletable\">\n",
       "<tr>\n",
       "  <th>Omnibus:</th>       <td>26.906</td> <th>  Durbin-Watson:     </th> <td>   0.404</td>\n",
       "</tr>\n",
       "<tr>\n",
       "  <th>Prob(Omnibus):</th> <td> 0.000</td> <th>  Jarque-Bera (JB):  </th> <td>  36.011</td>\n",
       "</tr>\n",
       "<tr>\n",
       "  <th>Skew:</th>          <td>-1.199</td> <th>  Prob(JB):          </th> <td>1.51e-08</td>\n",
       "</tr>\n",
       "<tr>\n",
       "  <th>Kurtosis:</th>      <td> 3.299</td> <th>  Cond. No.          </th> <td>2.54e+05</td>\n",
       "</tr>\n",
       "</table><br/><br/>Notes:<br/>[1] Standard Errors assume that the covariance matrix of the errors is correctly specified.<br/>[2] The condition number is large, 2.54e+05. This might indicate that there are<br/>strong multicollinearity or other numerical problems."
      ],
      "text/plain": [
       "<class 'statsmodels.iolib.summary.Summary'>\n",
       "\"\"\"\n",
       "                            OLS Regression Results                            \n",
       "==============================================================================\n",
       "Dep. Variable:           turn_percent   R-squared:                       0.146\n",
       "Model:                            OLS   Adj. R-squared:                  0.116\n",
       "Method:                 Least Squares   F-statistic:                     4.844\n",
       "Date:                Mon, 08 Mar 2021   Prob (F-statistic):           0.000403\n",
       "Time:                        21:54:07   Log-Likelihood:                -692.11\n",
       "No. Observations:                 148   AIC:                             1396.\n",
       "Df Residuals:                     142   BIC:                             1414.\n",
       "Df Model:                           5                                         \n",
       "Covariance Type:            nonrobust                                         \n",
       "===============================================================================\n",
       "                  coef    std err          t      P>|t|      [0.025      0.975]\n",
       "-------------------------------------------------------------------------------\n",
       "const          44.8675     17.124      2.620      0.010      11.016      78.719\n",
       "propwomen      24.2395      6.275      3.863      0.000      11.835      36.644\n",
       "oppospower    -17.7388      6.029     -2.942      0.004     -29.656      -5.821\n",
       "sepowerdist     2.7071      3.688      0.734      0.464      -4.584       9.998\n",
       "gdpcap      -2.502e-05      0.000     -0.162      0.872      -0.000       0.000\n",
       "youthunemp      0.0568      0.259      0.219      0.827      -0.455       0.569\n",
       "==============================================================================\n",
       "Omnibus:                       26.906   Durbin-Watson:                   0.404\n",
       "Prob(Omnibus):                  0.000   Jarque-Bera (JB):               36.011\n",
       "Skew:                          -1.199   Prob(JB):                     1.51e-08\n",
       "Kurtosis:                       3.299   Cond. No.                     2.54e+05\n",
       "==============================================================================\n",
       "\n",
       "Notes:\n",
       "[1] Standard Errors assume that the covariance matrix of the errors is correctly specified.\n",
       "[2] The condition number is large, 2.54e+05. This might indicate that there are\n",
       "strong multicollinearity or other numerical problems.\n",
       "\"\"\""
      ]
     },
     "execution_count": 35,
     "metadata": {},
     "output_type": "execute_result"
    }
   ],
   "source": [
    "model2=sm.OLS(y,x_withfemale).fit()\n",
    "model2.summary()"
   ]
  },
  {
   "cell_type": "code",
   "execution_count": 36,
   "id": "current-lesbian",
   "metadata": {},
   "outputs": [],
   "source": [
    "#Finally let's put all the models together. #To make it nice on Latex. :) \n",
    "\n",
    "#Another package is needed!\n",
    "#This package will produce latex format of these models.\n",
    "from stargazer.stargazer import Stargazer"
   ]
  },
  {
   "cell_type": "code",
   "execution_count": 37,
   "id": "canadian-february",
   "metadata": {},
   "outputs": [
    {
     "name": "stdout",
     "output_type": "stream",
     "text": [
      "\\begin{table}[!htbp] \\centering\n",
      "\\begin{tabular}{@{\\extracolsep{5pt}}lcc}\n",
      "\\\\[-1.8ex]\\hline\n",
      "\\hline \\\\[-1.8ex]\n",
      "& \\multicolumn{2}{c}{\\textit{Dependent variable:}} \\\n",
      "\\cr \\cline{2-3}\n",
      "\\\\[-1.8ex] & \\multicolumn{1}{c}{Base Model} & \\multicolumn{1}{c}{Spesified Model}  \\\\\n",
      "\\\\[-1.8ex] & (1) & (2) \\\\\n",
      "\\hline \\\\[-1.8ex]\n",
      " Female Property Rights & & 24.24$^{***}$ \\\\\n",
      "  & & (6.28) \\\\\n",
      " Opposition Power & -11.10$^{*}$ & -17.74$^{***}$ \\\\\n",
      "  & (6.05) & (6.03) \\\\\n",
      " GDP($) & 0.00$^{}$ & -0.00$^{}$ \\\\\n",
      "  & (0.00) & (0.00) \\\\\n",
      " Class Political Power & 7.98$^{**}$ & 2.71$^{}$ \\\\\n",
      "  & (3.59) & (3.69) \\\\\n",
      " Unemployed Youth % & 0.02$^{}$ & 0.06$^{}$ \\\\\n",
      "  & (0.27) & (0.26) \\\\\n",
      " Constant & 75.25$^{***}$ & 44.87$^{***}$ \\\\\n",
      "  & (15.93) & (17.12) \\\\\n",
      "\\hline \\\\[-1.8ex]\n",
      " Observations & 148 & 148 \\\\\n",
      " $R^2$ & 0.06 & 0.15 \\\\\n",
      " Adjusted $R^2$ & 0.03 & 0.12 \\\\\n",
      " Residual Std. Error & 27.79(df = 143) & 26.53(df = 142)  \\\\\n",
      " F Statistic & 2.12$^{*}$ (df = 4.0; 143.0) & 4.84$^{***}$ (df = 5.0; 142.0) \\\\\n",
      "\\hline\n",
      "\\hline \\\\[-1.8ex]\n",
      "\\textit{Note:} & \\multicolumn{2}{r}{$^{*}$p$<$0.1; $^{**}$p$<$0.05; $^{***}$p$<$0.01} \\\\\n",
      "\\end{tabular}\n",
      "\\end{table}\n"
     ]
    }
   ],
   "source": [
    "stargazer=Stargazer([model1,model2]) #put two models together\n",
    "\n",
    "#give names to the models\n",
    "stargazer.custom_columns(['Base Model', 'Spesified Model'], [1, 1])\n",
    "\n",
    "#to show only two digit after the point in coeficents.\n",
    "stargazer.significant_digits(2)\n",
    "\n",
    "#to order the variables in the table.\n",
    "#Put propwomen variable to the top and so on.\n",
    "\n",
    "stargazer.covariate_order(['propwomen','oppospower', \n",
    "                           'gdpcap', 'sepowerdist',\n",
    "                           'youthunemp','const'])\n",
    "\n",
    "# Basically to rename the variables to make it more profesional as you said:) \n",
    "stargazer.rename_covariates({'const': 'Constant',\n",
    "                             'oppospower':'Opposition Power',\n",
    "                             'gdpcap': 'GDP($)',\n",
    "                             'sepowerdist':'Class Political Power',\n",
    "                             'youthunemp':'Unemployed Youth %',\n",
    "                             'propwomen':'Female Property Rights'})\n",
    "\n",
    "#that is just space formating.\n",
    "stargazer.cov_spacing = 3\n",
    "\n",
    "#let's print the final work that we can copy and past to tex studio.\n",
    "print(stargazer.render_latex())"
   ]
  },
  {
   "cell_type": "markdown",
   "id": "directed-practice",
   "metadata": {},
   "source": [
    " "
   ]
  },
  {
   "cell_type": "markdown",
   "id": "christian-inflation",
   "metadata": {},
   "source": [
    " "
   ]
  },
  {
   "cell_type": "markdown",
   "id": "military-palmer",
   "metadata": {},
   "source": [
    "# Part II"
   ]
  },
  {
   "cell_type": "code",
   "execution_count": 38,
   "id": "rotary-disclaimer",
   "metadata": {},
   "outputs": [],
   "source": [
    "#Lets first include some visualization and a statistics packages\n",
    "\n",
    "import matplotlib.pyplot as plt\n",
    "import seaborn as sns\n",
    "sns.set()\n",
    "\n",
    "import statistics as stat"
   ]
  },
  {
   "cell_type": "markdown",
   "id": "sealed-manor",
   "metadata": {},
   "source": [
    "### Loading the dataset"
   ]
  },
  {
   "cell_type": "code",
   "execution_count": 40,
   "id": "modular-footage",
   "metadata": {},
   "outputs": [],
   "source": [
    "#This our dataframe.\n",
    "df=pd.read_stata('grade_clean.dta')"
   ]
  },
  {
   "cell_type": "code",
   "execution_count": 41,
   "id": "formal-earthquake",
   "metadata": {},
   "outputs": [],
   "source": [
    "#i take the finalgrade from the dataset\n",
    "finalgrade=df['finalgrade']"
   ]
  },
  {
   "cell_type": "markdown",
   "id": "academic-annotation",
   "metadata": {},
   "source": [
    "### Looping through"
   ]
  },
  {
   "cell_type": "code",
   "execution_count": 42,
   "id": "limiting-criminal",
   "metadata": {},
   "outputs": [],
   "source": [
    "#I define a function which has a loop inside.\n",
    "#Create a function called 'sample_mean_calculator' and\n",
    "#take two parameters: the data and sample size.\n",
    "#create a empty list called sample means first.\n",
    "#then for each value in sample size, do followings:\n",
    "#First create a sample variable which takes samples from the final grade.\n",
    "#I set replace true because we want to use whole dataset again\n",
    "#when we take another sample.\n",
    "#then take the mean of samples from finalgrade and append to our empty list above.\n",
    "#Do all things and return sample means for us. \n",
    "def sample_mean_calculator(data, n_samples):\n",
    "    sample_means=[]\n",
    "    for i in range(n_samples):\n",
    "        sample=finalgrade.sample(n_samples, replace=True)\n",
    "        sample_mean=stat.mean(sample)\n",
    "        sample_means.append(sample_mean)\n",
    "    return sample_means"
   ]
  },
  {
   "cell_type": "markdown",
   "id": "intimate-filter",
   "metadata": {},
   "source": [
    "### Plotting"
   ]
  },
  {
   "cell_type": "code",
   "execution_count": 47,
   "id": "final-dutch",
   "metadata": {},
   "outputs": [
    {
     "data": {
      "image/png": "[encoded data removed]",
      "text/plain": [
       "<Figure size 864x576 with 4 Axes>"
      ]
     },
     "metadata": {},
     "output_type": "display_data"
    }
   ],
   "source": [
    "#These are some setting for making the graph nicer.\n",
    "sns.set_theme(style=\"whitegrid\")\n",
    "fig, ax = plt.subplots(ncols=2,nrows=2,figsize=(12,8))\n",
    "fig.suptitle('Central Limit Theorem Demonstration')\n",
    "plt.subplots_adjust(wspace=0.5)\n",
    "plt.tight_layout()\n",
    "ax[0,0].set_xlabel('Final Grade Means with 10 Samples')\n",
    "ax[0,1].set_xlabel('Final Grade Means with 100 Samples')\n",
    "ax[1,0].set_xlabel('Final Grade Means with 1000 Samples')\n",
    "ax[1,1].set_xlabel('Final Grade Means with 10000 Samples')\n",
    "\n",
    "#lets plot\n",
    "sns.distplot(ax=ax[0,0],x=sample_mean_calculator(finalgrade, 10),bins=15,color='gray')\n",
    "sns.distplot(ax=ax[0,1],x=sample_mean_calculator(finalgrade, 100),bins=25,color='gray')\n",
    "sns.distplot(ax=ax[1,0],x=sample_mean_calculator(finalgrade, 1000),bins=35,color='gray')\n",
    "sns.distplot(ax=ax[1,1],x=sample_mean_calculator(finalgrade, 10000),bins=45,color='gray')\n",
    "fig.savefig('Oner_CLT.png')\n",
    "plt.show()"
   ]
  },
  {
   "cell_type": "code",
   "execution_count": null,
   "id": "likely-assumption",
   "metadata": {},
   "outputs": [],
   "source": []
  }
 ],
 "metadata": {
  "kernelspec": {
   "display_name": "Python 3",
   "language": "python",
   "name": "python3"
  },
  "language_info": {
   "codemirror_mode": {
    "name": "ipython",
    "version": 3
   },
   "file_extension": ".py",
   "mimetype": "text/x-python",
   "name": "python",
   "nbconvert_exporter": "python",
   "pygments_lexer": "ipython3",
   "version": "3.8.5"
  }
 },
 "nbformat": 4,
 "nbformat_minor": 5
}

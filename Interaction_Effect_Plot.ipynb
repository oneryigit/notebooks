{
  "nbformat": 4,
  "nbformat_minor": 0,
  "metadata": {
    "colab": {
      "name": "Interaction Effect Plot.ipynb",
      "provenance": [],
      "mount_file_id": "1O9Sd4myZDYnTLU1VW4h0ZIMueNVBXYU-",
      "authorship_tag": "ABX9TyMrrgXl9ggRTh1QhJ8yclfo",
      "include_colab_link": true
    },
    "kernelspec": {
      "name": "python3",
      "display_name": "Python 3"
    },
    "language_info": {
      "name": "python"
    }
  },
  "cells": [
    {
      "cell_type": "markdown",
      "metadata": {
        "id": "view-in-github",
        "colab_type": "text"
      },
      "source": [
        "<a href=\"https://colab.research.google.com/github/oneryigit/for_my_reference/blob/main/Interaction_Effect_Plot.ipynb\" target=\"_parent\"><img src=\"https://colab.research.google.com/assets/colab-badge.svg\" alt=\"Open In Colab\"/></a>"
      ]
    },
    {
      "cell_type": "markdown",
      "source": [
        "# Interaction Effect Plot"
      ],
      "metadata": {
        "id": "pKmMneMqncLI"
      }
    },
    {
      "cell_type": "markdown",
      "source": [
        "- Matt Golder and his coauthors suggest a spesific way to show the interaction effect. They have suberb tutorials (see: http://mattgolder.com/interactions) about how to use interaction terms in the models properly. \n",
        "\n",
        "- In this notebook, I replicate Golder et al.'s STATA code using Python. To my knowladge, no one has created interaction plot using Python. (There is a package for R users (see: https://cran.r-project.org/web/packages/interplot/vignettes/interplot-vignette.html), which is also a great tool to use. However, we still do not have such function to implement interaction plot in Python. I hope someone with better knowladge of Python can write some forms of functions or package for interaction plot.)\n",
        "\n",
        "- Enough talking. Let's create interaction plot using Python. \n"
      ],
      "metadata": {
        "id": "s2sjo-Mlnn0x"
      }
    },
    {
      "cell_type": "code",
      "execution_count": 233,
      "metadata": {
        "id": "ZbOhTWSui4Oa"
      },
      "outputs": [],
      "source": [
        "#Import some packages\n",
        "\n",
        "import pandas as pd\n",
        "import matplotlib.pyplot as plt\n",
        "import seaborn as sns\n",
        "import seaborn as sns\n",
        "import numpy as np\n",
        "\n",
        "import statsmodels.api as sm\n",
        "import statsmodels.formula.api as smf"
      ]
    },
    {
      "cell_type": "code",
      "source": [
        "#load the dataset. source: http://mattgolder.com/interactions \n",
        "\n",
        "df= pd.read_stata('/content/drive/MyDrive/interaction1/alexseev.dta')\n",
        "df=df.dropna()\n",
        "df.head()"
      ],
      "metadata": {
        "colab": {
          "base_uri": "https://localhost:8080/",
          "height": 206
        },
        "id": "RRUScHQ_jAuX",
        "outputId": "5411d330-7d53-4a00-b7c3-0e069f926c77"
      },
      "execution_count": 396,
      "outputs": [
        {
          "output_type": "execute_result",
          "data": {
            "text/html": [
              "\n",
              "  <div id=\"df-a1cacfb1-63af-4346-8812-47296e55e675\">\n",
              "    <div class=\"colab-df-container\">\n",
              "      <div>\n",
              "<style scoped>\n",
              "    .dataframe tbody tr th:only-of-type {\n",
              "        vertical-align: middle;\n",
              "    }\n",
              "\n",
              "    .dataframe tbody tr th {\n",
              "        vertical-align: top;\n",
              "    }\n",
              "\n",
              "    .dataframe thead th {\n",
              "        text-align: right;\n",
              "    }\n",
              "</style>\n",
              "<table border=\"1\" class=\"dataframe\">\n",
              "  <thead>\n",
              "    <tr style=\"text-align: right;\">\n",
              "      <th></th>\n",
              "      <th>region</th>\n",
              "      <th>xenovote</th>\n",
              "      <th>slavicshare</th>\n",
              "      <th>changenonslav</th>\n",
              "      <th>slavicshare_changenonslav</th>\n",
              "      <th>inc9903</th>\n",
              "      <th>eduhi02</th>\n",
              "      <th>unemp02</th>\n",
              "      <th>apt9200</th>\n",
              "      <th>vsall03</th>\n",
              "      <th>brdcont</th>\n",
              "    </tr>\n",
              "  </thead>\n",
              "  <tbody>\n",
              "    <tr>\n",
              "      <th>0</th>\n",
              "      <td>1.0</td>\n",
              "      <td>14.0</td>\n",
              "      <td>90.643288</td>\n",
              "      <td>-0.876622</td>\n",
              "      <td>-79.459938</td>\n",
              "      <td>1992.785522</td>\n",
              "      <td>121.59819</td>\n",
              "      <td>0.889216</td>\n",
              "      <td>70.093658</td>\n",
              "      <td>3.602349</td>\n",
              "      <td>1.0</td>\n",
              "    </tr>\n",
              "    <tr>\n",
              "      <th>1</th>\n",
              "      <td>2.0</td>\n",
              "      <td>18.5</td>\n",
              "      <td>95.282722</td>\n",
              "      <td>-1.096682</td>\n",
              "      <td>-104.494865</td>\n",
              "      <td>2558.000000</td>\n",
              "      <td>131.00000</td>\n",
              "      <td>0.996678</td>\n",
              "      <td>54.000000</td>\n",
              "      <td>5.133074</td>\n",
              "      <td>1.0</td>\n",
              "    </tr>\n",
              "    <tr>\n",
              "      <th>2</th>\n",
              "      <td>3.0</td>\n",
              "      <td>13.0</td>\n",
              "      <td>96.808777</td>\n",
              "      <td>-0.286360</td>\n",
              "      <td>-27.722204</td>\n",
              "      <td>3465.000000</td>\n",
              "      <td>118.00000</td>\n",
              "      <td>1.197605</td>\n",
              "      <td>31.000000</td>\n",
              "      <td>5.735354</td>\n",
              "      <td>0.0</td>\n",
              "    </tr>\n",
              "    <tr>\n",
              "      <th>3</th>\n",
              "      <td>4.0</td>\n",
              "      <td>13.5</td>\n",
              "      <td>74.261459</td>\n",
              "      <td>3.035891</td>\n",
              "      <td>225.449692</td>\n",
              "      <td>2655.000000</td>\n",
              "      <td>134.00000</td>\n",
              "      <td>0.796020</td>\n",
              "      <td>54.000000</td>\n",
              "      <td>4.796563</td>\n",
              "      <td>1.0</td>\n",
              "    </tr>\n",
              "    <tr>\n",
              "      <th>4</th>\n",
              "      <td>5.0</td>\n",
              "      <td>11.0</td>\n",
              "      <td>41.599594</td>\n",
              "      <td>3.512825</td>\n",
              "      <td>146.132095</td>\n",
              "      <td>2908.000000</td>\n",
              "      <td>115.00000</td>\n",
              "      <td>0.584795</td>\n",
              "      <td>34.000000</td>\n",
              "      <td>2.784185</td>\n",
              "      <td>0.0</td>\n",
              "    </tr>\n",
              "  </tbody>\n",
              "</table>\n",
              "</div>\n",
              "      <button class=\"colab-df-convert\" onclick=\"convertToInteractive('df-a1cacfb1-63af-4346-8812-47296e55e675')\"\n",
              "              title=\"Convert this dataframe to an interactive table.\"\n",
              "              style=\"display:none;\">\n",
              "        \n",
              "  <svg xmlns=\"http://www.w3.org/2000/svg\" height=\"24px\"viewBox=\"0 0 24 24\"\n",
              "       width=\"24px\">\n",
              "    <path d=\"M0 0h24v24H0V0z\" fill=\"none\"/>\n",
              "    <path d=\"M18.56 5.44l.94 2.06.94-2.06 2.06-.94-2.06-.94-.94-2.06-.94 2.06-2.06.94zm-11 1L8.5 8.5l.94-2.06 2.06-.94-2.06-.94L8.5 2.5l-.94 2.06-2.06.94zm10 10l.94 2.06.94-2.06 2.06-.94-2.06-.94-.94-2.06-.94 2.06-2.06.94z\"/><path d=\"M17.41 7.96l-1.37-1.37c-.4-.4-.92-.59-1.43-.59-.52 0-1.04.2-1.43.59L10.3 9.45l-7.72 7.72c-.78.78-.78 2.05 0 2.83L4 21.41c.39.39.9.59 1.41.59.51 0 1.02-.2 1.41-.59l7.78-7.78 2.81-2.81c.8-.78.8-2.07 0-2.86zM5.41 20L4 18.59l7.72-7.72 1.47 1.35L5.41 20z\"/>\n",
              "  </svg>\n",
              "      </button>\n",
              "      \n",
              "  <style>\n",
              "    .colab-df-container {\n",
              "      display:flex;\n",
              "      flex-wrap:wrap;\n",
              "      gap: 12px;\n",
              "    }\n",
              "\n",
              "    .colab-df-convert {\n",
              "      background-color: #E8F0FE;\n",
              "      border: none;\n",
              "      border-radius: 50%;\n",
              "      cursor: pointer;\n",
              "      display: none;\n",
              "      fill: #1967D2;\n",
              "      height: 32px;\n",
              "      padding: 0 0 0 0;\n",
              "      width: 32px;\n",
              "    }\n",
              "\n",
              "    .colab-df-convert:hover {\n",
              "      background-color: #E2EBFA;\n",
              "      box-shadow: 0px 1px 2px rgba(60, 64, 67, 0.3), 0px 1px 3px 1px rgba(60, 64, 67, 0.15);\n",
              "      fill: #174EA6;\n",
              "    }\n",
              "\n",
              "    [theme=dark] .colab-df-convert {\n",
              "      background-color: #3B4455;\n",
              "      fill: #D2E3FC;\n",
              "    }\n",
              "\n",
              "    [theme=dark] .colab-df-convert:hover {\n",
              "      background-color: #434B5C;\n",
              "      box-shadow: 0px 1px 3px 1px rgba(0, 0, 0, 0.15);\n",
              "      filter: drop-shadow(0px 1px 2px rgba(0, 0, 0, 0.3));\n",
              "      fill: #FFFFFF;\n",
              "    }\n",
              "  </style>\n",
              "\n",
              "      <script>\n",
              "        const buttonEl =\n",
              "          document.querySelector('#df-a1cacfb1-63af-4346-8812-47296e55e675 button.colab-df-convert');\n",
              "        buttonEl.style.display =\n",
              "          google.colab.kernel.accessAllowed ? 'block' : 'none';\n",
              "\n",
              "        async function convertToInteractive(key) {\n",
              "          const element = document.querySelector('#df-a1cacfb1-63af-4346-8812-47296e55e675');\n",
              "          const dataTable =\n",
              "            await google.colab.kernel.invokeFunction('convertToInteractive',\n",
              "                                                     [key], {});\n",
              "          if (!dataTable) return;\n",
              "\n",
              "          const docLinkHtml = 'Like what you see? Visit the ' +\n",
              "            '<a target=\"_blank\" href=https://colab.research.google.com/notebooks/data_table.ipynb>data table notebook</a>'\n",
              "            + ' to learn more about interactive tables.';\n",
              "          element.innerHTML = '';\n",
              "          dataTable['output_type'] = 'display_data';\n",
              "          await google.colab.output.renderOutput(dataTable, element);\n",
              "          const docLink = document.createElement('div');\n",
              "          docLink.innerHTML = docLinkHtml;\n",
              "          element.appendChild(docLink);\n",
              "        }\n",
              "      </script>\n",
              "    </div>\n",
              "  </div>\n",
              "  "
            ],
            "text/plain": [
              "   region  xenovote  slavicshare  ...    apt9200   vsall03  brdcont\n",
              "0     1.0      14.0    90.643288  ...  70.093658  3.602349      1.0\n",
              "1     2.0      18.5    95.282722  ...  54.000000  5.133074      1.0\n",
              "2     3.0      13.0    96.808777  ...  31.000000  5.735354      0.0\n",
              "3     4.0      13.5    74.261459  ...  54.000000  4.796563      1.0\n",
              "4     5.0      11.0    41.599594  ...  34.000000  2.784185      0.0\n",
              "\n",
              "[5 rows x 11 columns]"
            ]
          },
          "metadata": {},
          "execution_count": 396
        }
      ]
    },
    {
      "cell_type": "markdown",
      "source": [
        "## $Y= β + β_1X + β_2Z + β_3XZ+ ϵ$"
      ],
      "metadata": {
        "id": "v3VdhJk32Pbq"
      }
    },
    {
      "cell_type": "code",
      "source": [
        "#Run the OLS model\n",
        "\n",
        "model = smf.ols(formula=\n",
        "                'xenovote ~ slavicshare + changenonslav + slavicshare_changenonslav + inc9903 + eduhi02 + unemp02 + apt9200 + vsall03 + brdcont',\n",
        "                data=df).fit(cov_type='cluster', cov_kwds={'groups':df['region']}, use_t=True)\n",
        "print(model.summary())"
      ],
      "metadata": {
        "colab": {
          "base_uri": "https://localhost:8080/"
        },
        "id": "2PpdLdLmjH4R",
        "outputId": "9cf65a03-bb09-46ae-ea50-00da2907b23b"
      },
      "execution_count": 238,
      "outputs": [
        {
          "output_type": "stream",
          "name": "stdout",
          "text": [
            "                            OLS Regression Results                            \n",
            "==============================================================================\n",
            "Dep. Variable:               xenovote   R-squared:                       0.658\n",
            "Model:                            OLS   Adj. R-squared:                  0.609\n",
            "Method:                 Least Squares   F-statistic:                     12.73\n",
            "Date:                Wed, 19 Jan 2022   Prob (F-statistic):           8.61e-12\n",
            "Time:                        00:34:58   Log-Likelihood:                -152.31\n",
            "No. Observations:                  72   AIC:                             324.6\n",
            "Df Residuals:                      62   BIC:                             347.4\n",
            "Df Model:                           9                                         \n",
            "Covariance Type:              cluster                                         \n",
            "=============================================================================================\n",
            "                                coef    std err          t      P>|t|      [0.025      0.975]\n",
            "---------------------------------------------------------------------------------------------\n",
            "Intercept                     8.9429      3.174      2.818      0.006       2.614      15.271\n",
            "slavicshare                   0.0315      0.022      1.422      0.160      -0.013       0.076\n",
            "changenonslav                -0.8511      0.322     -2.643      0.010      -1.493      -0.209\n",
            "slavicshare_changenonslav     0.0082      0.005      1.761      0.083      -0.001       0.018\n",
            "inc9903                       0.0002      0.000      1.221      0.226      -0.000       0.001\n",
            "eduhi02                      -0.0395      0.011     -3.502      0.001      -0.062      -0.017\n",
            "unemp02                       1.4320      0.635      2.254      0.027       0.165       2.699\n",
            "apt9200                       0.0301      0.036      0.848      0.399      -0.041       0.101\n",
            "vsall03                       0.6612      0.332      1.994      0.050       0.000       1.322\n",
            "brdcont                       2.1037      0.652      3.225      0.002       0.803       3.404\n",
            "==============================================================================\n",
            "Omnibus:                        0.161   Durbin-Watson:                   2.355\n",
            "Prob(Omnibus):                  0.922   Jarque-Bera (JB):                0.326\n",
            "Skew:                          -0.085   Prob(JB):                        0.850\n",
            "Kurtosis:                       2.717   Cond. No.                     3.89e+04\n",
            "==============================================================================\n",
            "\n",
            "Warnings:\n",
            "[1] Standard Errors are robust to cluster correlation (cluster)\n",
            "[2] The condition number is large, 3.89e+04. This might indicate that there are\n",
            "strong multicollinearity or other numerical problems.\n"
          ]
        }
      ]
    },
    {
      "cell_type": "code",
      "source": [
        "#elements of the estimated coefﬁcient vector\n",
        "# scalar in STATA \n",
        "print(model.params) "
      ],
      "metadata": {
        "colab": {
          "base_uri": "https://localhost:8080/"
        },
        "id": "CYHsWvZWkBne",
        "outputId": "6355d0bc-38cb-4972-d92e-afb1870dd247"
      },
      "execution_count": 239,
      "outputs": [
        {
          "output_type": "stream",
          "name": "stdout",
          "text": [
            "Intercept                    8.942878\n",
            "slavicshare                  0.031486\n",
            "changenonslav               -0.851108\n",
            "slavicshare_changenonslav    0.008226\n",
            "inc9903                      0.000234\n",
            "eduhi02                     -0.039512\n",
            "unemp02                      1.432013\n",
            "apt9200                      0.030125\n",
            "vsall03                      0.661163\n",
            "brdcont                      2.103688\n",
            "dtype: float64\n"
          ]
        }
      ]
    },
    {
      "cell_type": "code",
      "source": [
        "#save coefs as b \n",
        "b= model.params"
      ],
      "metadata": {
        "id": "7HXFWFBD0-9U"
      },
      "execution_count": 240,
      "outputs": []
    },
    {
      "cell_type": "code",
      "source": [
        "#Variance-Coveriance matrix\n",
        "\n",
        "print(model.cov_params())"
      ],
      "metadata": {
        "colab": {
          "base_uri": "https://localhost:8080/"
        },
        "id": "bLSuobO3pksc",
        "outputId": "1437ac18-f841-489e-8ed0-43a888cdc860"
      },
      "execution_count": 241,
      "outputs": [
        {
          "output_type": "stream",
          "name": "stdout",
          "text": [
            "                           Intercept   slavicshare  ...   vsall03   brdcont\n",
            "Intercept                  10.073281 -2.175941e-02  ... -0.685161 -0.322368\n",
            "slavicshare                -0.021759  4.905047e-04  ... -0.001418  0.004298\n",
            "changenonslav              -0.376554  4.305058e-03  ...  0.019171  0.055818\n",
            "slavicshare_changenonslav   0.004221 -5.822067e-05  ... -0.000084 -0.000680\n",
            "inc9903                     0.000126 -1.047080e-07  ... -0.000004 -0.000024\n",
            "eduhi02                    -0.013565  2.107277e-05  ... -0.000635  0.000718\n",
            "unemp02                    -0.725426 -1.457091e-04  ...  0.012112  0.058402\n",
            "apt9200                    -0.053394 -3.868874e-04  ...  0.007354 -0.007781\n",
            "vsall03                    -0.685161 -1.417979e-03  ...  0.109903  0.026928\n",
            "brdcont                    -0.322368  4.298085e-03  ...  0.026928  0.425536\n",
            "\n",
            "[10 rows x 10 columns]\n"
          ]
        }
      ]
    },
    {
      "cell_type": "code",
      "source": [
        "#assign cov-var to V as we did above for b \n",
        "V= model.cov_params()"
      ],
      "metadata": {
        "id": "5GcR3MYMqBaX"
      },
      "execution_count": 242,
      "outputs": []
    },
    {
      "cell_type": "code",
      "source": [
        "b[0] # is the coeficent of constant\n",
        "\n",
        "b[1] # is the coeficent of slavicshare (b1) X\n",
        "\n",
        "b[2] # is the coeficent of changenonslav (b2) Z\n",
        "\n",
        "B[3] # is the coeficent of slavicshare_changenonslav (b3) X*Z"
      ],
      "metadata": {
        "colab": {
          "base_uri": "https://localhost:8080/"
        },
        "id": "2bhybk7s1G0i",
        "outputId": "46494f5a-b3c8-4934-e0e9-552f5f57ed0b"
      },
      "execution_count": 54,
      "outputs": [
        {
          "output_type": "execute_result",
          "data": {
            "text/plain": [
              "-0.8511076068287307"
            ]
          },
          "metadata": {},
          "execution_count": 54
        }
      ]
    },
    {
      "cell_type": "code",
      "source": [
        "#assign them to variables. We will use it later on.  \n",
        "b1= b[1] #X\n",
        "b2=b[2] #Z\n",
        "b3= b[3] #XZ"
      ],
      "metadata": {
        "id": "3huCmU9O1HgU"
      },
      "execution_count": 263,
      "outputs": []
    },
    {
      "cell_type": "code",
      "source": [
        "V #here is the variance coverience matrix"
      ],
      "metadata": {
        "colab": {
          "base_uri": "https://localhost:8080/",
          "height": 407
        },
        "id": "1EApapiO3Hsm",
        "outputId": "7d2ded7d-94d4-4965-fc01-c5e260f8b789"
      },
      "execution_count": 65,
      "outputs": [
        {
          "output_type": "execute_result",
          "data": {
            "text/html": [
              "\n",
              "  <div id=\"df-ec7c017a-be35-4a5a-a087-1a288c6ccfc0\">\n",
              "    <div class=\"colab-df-container\">\n",
              "      <div>\n",
              "<style scoped>\n",
              "    .dataframe tbody tr th:only-of-type {\n",
              "        vertical-align: middle;\n",
              "    }\n",
              "\n",
              "    .dataframe tbody tr th {\n",
              "        vertical-align: top;\n",
              "    }\n",
              "\n",
              "    .dataframe thead th {\n",
              "        text-align: right;\n",
              "    }\n",
              "</style>\n",
              "<table border=\"1\" class=\"dataframe\">\n",
              "  <thead>\n",
              "    <tr style=\"text-align: right;\">\n",
              "      <th></th>\n",
              "      <th>Intercept</th>\n",
              "      <th>slavicshare</th>\n",
              "      <th>changenonslav</th>\n",
              "      <th>slavicshare_changenonslav</th>\n",
              "      <th>inc9903</th>\n",
              "      <th>eduhi02</th>\n",
              "      <th>unemp02</th>\n",
              "      <th>apt9200</th>\n",
              "      <th>vsall03</th>\n",
              "      <th>brdcont</th>\n",
              "    </tr>\n",
              "  </thead>\n",
              "  <tbody>\n",
              "    <tr>\n",
              "      <th>Intercept</th>\n",
              "      <td>10.073281</td>\n",
              "      <td>-2.175941e-02</td>\n",
              "      <td>-0.376554</td>\n",
              "      <td>4.220535e-03</td>\n",
              "      <td>1.262667e-04</td>\n",
              "      <td>-1.356542e-02</td>\n",
              "      <td>-0.725426</td>\n",
              "      <td>-5.339373e-02</td>\n",
              "      <td>-0.685161</td>\n",
              "      <td>-0.322368</td>\n",
              "    </tr>\n",
              "    <tr>\n",
              "      <th>slavicshare</th>\n",
              "      <td>-0.021759</td>\n",
              "      <td>4.905047e-04</td>\n",
              "      <td>0.004305</td>\n",
              "      <td>-5.822067e-05</td>\n",
              "      <td>-1.047080e-07</td>\n",
              "      <td>2.107277e-05</td>\n",
              "      <td>-0.000146</td>\n",
              "      <td>-3.868874e-04</td>\n",
              "      <td>-0.001418</td>\n",
              "      <td>0.004298</td>\n",
              "    </tr>\n",
              "    <tr>\n",
              "      <th>changenonslav</th>\n",
              "      <td>-0.376554</td>\n",
              "      <td>4.305058e-03</td>\n",
              "      <td>0.103679</td>\n",
              "      <td>-1.436367e-03</td>\n",
              "      <td>1.138296e-05</td>\n",
              "      <td>3.019767e-04</td>\n",
              "      <td>-0.061743</td>\n",
              "      <td>-2.664113e-03</td>\n",
              "      <td>0.019171</td>\n",
              "      <td>0.055818</td>\n",
              "    </tr>\n",
              "    <tr>\n",
              "      <th>slavicshare_changenonslav</th>\n",
              "      <td>0.004221</td>\n",
              "      <td>-5.822067e-05</td>\n",
              "      <td>-0.001436</td>\n",
              "      <td>2.182352e-05</td>\n",
              "      <td>-2.333663e-07</td>\n",
              "      <td>-9.777098e-06</td>\n",
              "      <td>0.001036</td>\n",
              "      <td>4.886091e-05</td>\n",
              "      <td>-0.000084</td>\n",
              "      <td>-0.000680</td>\n",
              "    </tr>\n",
              "    <tr>\n",
              "      <th>inc9903</th>\n",
              "      <td>0.000126</td>\n",
              "      <td>-1.047080e-07</td>\n",
              "      <td>0.000011</td>\n",
              "      <td>-2.333663e-07</td>\n",
              "      <td>3.683641e-08</td>\n",
              "      <td>-8.051491e-07</td>\n",
              "      <td>-0.000073</td>\n",
              "      <td>-3.464140e-07</td>\n",
              "      <td>-0.000004</td>\n",
              "      <td>-0.000024</td>\n",
              "    </tr>\n",
              "    <tr>\n",
              "      <th>eduhi02</th>\n",
              "      <td>-0.013565</td>\n",
              "      <td>2.107277e-05</td>\n",
              "      <td>0.000302</td>\n",
              "      <td>-9.777098e-06</td>\n",
              "      <td>-8.051491e-07</td>\n",
              "      <td>1.272856e-04</td>\n",
              "      <td>0.002774</td>\n",
              "      <td>-5.529624e-05</td>\n",
              "      <td>-0.000635</td>\n",
              "      <td>0.000718</td>\n",
              "    </tr>\n",
              "    <tr>\n",
              "      <th>unemp02</th>\n",
              "      <td>-0.725426</td>\n",
              "      <td>-1.457091e-04</td>\n",
              "      <td>-0.061743</td>\n",
              "      <td>1.036104e-03</td>\n",
              "      <td>-7.323742e-05</td>\n",
              "      <td>2.774196e-03</td>\n",
              "      <td>0.403706</td>\n",
              "      <td>3.153644e-03</td>\n",
              "      <td>0.012112</td>\n",
              "      <td>0.058402</td>\n",
              "    </tr>\n",
              "    <tr>\n",
              "      <th>apt9200</th>\n",
              "      <td>-0.053394</td>\n",
              "      <td>-3.868874e-04</td>\n",
              "      <td>-0.002664</td>\n",
              "      <td>4.886091e-05</td>\n",
              "      <td>-3.464140e-07</td>\n",
              "      <td>-5.529624e-05</td>\n",
              "      <td>0.003154</td>\n",
              "      <td>1.261055e-03</td>\n",
              "      <td>0.007354</td>\n",
              "      <td>-0.007781</td>\n",
              "    </tr>\n",
              "    <tr>\n",
              "      <th>vsall03</th>\n",
              "      <td>-0.685161</td>\n",
              "      <td>-1.417979e-03</td>\n",
              "      <td>0.019171</td>\n",
              "      <td>-8.391738e-05</td>\n",
              "      <td>-4.499005e-06</td>\n",
              "      <td>-6.347258e-04</td>\n",
              "      <td>0.012112</td>\n",
              "      <td>7.353573e-03</td>\n",
              "      <td>0.109903</td>\n",
              "      <td>0.026928</td>\n",
              "    </tr>\n",
              "    <tr>\n",
              "      <th>brdcont</th>\n",
              "      <td>-0.322368</td>\n",
              "      <td>4.298085e-03</td>\n",
              "      <td>0.055818</td>\n",
              "      <td>-6.800301e-04</td>\n",
              "      <td>-2.437262e-05</td>\n",
              "      <td>7.177621e-04</td>\n",
              "      <td>0.058402</td>\n",
              "      <td>-7.781210e-03</td>\n",
              "      <td>0.026928</td>\n",
              "      <td>0.425536</td>\n",
              "    </tr>\n",
              "  </tbody>\n",
              "</table>\n",
              "</div>\n",
              "      <button class=\"colab-df-convert\" onclick=\"convertToInteractive('df-ec7c017a-be35-4a5a-a087-1a288c6ccfc0')\"\n",
              "              title=\"Convert this dataframe to an interactive table.\"\n",
              "              style=\"display:none;\">\n",
              "        \n",
              "  <svg xmlns=\"http://www.w3.org/2000/svg\" height=\"24px\"viewBox=\"0 0 24 24\"\n",
              "       width=\"24px\">\n",
              "    <path d=\"M0 0h24v24H0V0z\" fill=\"none\"/>\n",
              "    <path d=\"M18.56 5.44l.94 2.06.94-2.06 2.06-.94-2.06-.94-.94-2.06-.94 2.06-2.06.94zm-11 1L8.5 8.5l.94-2.06 2.06-.94-2.06-.94L8.5 2.5l-.94 2.06-2.06.94zm10 10l.94 2.06.94-2.06 2.06-.94-2.06-.94-.94-2.06-.94 2.06-2.06.94z\"/><path d=\"M17.41 7.96l-1.37-1.37c-.4-.4-.92-.59-1.43-.59-.52 0-1.04.2-1.43.59L10.3 9.45l-7.72 7.72c-.78.78-.78 2.05 0 2.83L4 21.41c.39.39.9.59 1.41.59.51 0 1.02-.2 1.41-.59l7.78-7.78 2.81-2.81c.8-.78.8-2.07 0-2.86zM5.41 20L4 18.59l7.72-7.72 1.47 1.35L5.41 20z\"/>\n",
              "  </svg>\n",
              "      </button>\n",
              "      \n",
              "  <style>\n",
              "    .colab-df-container {\n",
              "      display:flex;\n",
              "      flex-wrap:wrap;\n",
              "      gap: 12px;\n",
              "    }\n",
              "\n",
              "    .colab-df-convert {\n",
              "      background-color: #E8F0FE;\n",
              "      border: none;\n",
              "      border-radius: 50%;\n",
              "      cursor: pointer;\n",
              "      display: none;\n",
              "      fill: #1967D2;\n",
              "      height: 32px;\n",
              "      padding: 0 0 0 0;\n",
              "      width: 32px;\n",
              "    }\n",
              "\n",
              "    .colab-df-convert:hover {\n",
              "      background-color: #E2EBFA;\n",
              "      box-shadow: 0px 1px 2px rgba(60, 64, 67, 0.3), 0px 1px 3px 1px rgba(60, 64, 67, 0.15);\n",
              "      fill: #174EA6;\n",
              "    }\n",
              "\n",
              "    [theme=dark] .colab-df-convert {\n",
              "      background-color: #3B4455;\n",
              "      fill: #D2E3FC;\n",
              "    }\n",
              "\n",
              "    [theme=dark] .colab-df-convert:hover {\n",
              "      background-color: #434B5C;\n",
              "      box-shadow: 0px 1px 3px 1px rgba(0, 0, 0, 0.15);\n",
              "      filter: drop-shadow(0px 1px 2px rgba(0, 0, 0, 0.3));\n",
              "      fill: #FFFFFF;\n",
              "    }\n",
              "  </style>\n",
              "\n",
              "      <script>\n",
              "        const buttonEl =\n",
              "          document.querySelector('#df-ec7c017a-be35-4a5a-a087-1a288c6ccfc0 button.colab-df-convert');\n",
              "        buttonEl.style.display =\n",
              "          google.colab.kernel.accessAllowed ? 'block' : 'none';\n",
              "\n",
              "        async function convertToInteractive(key) {\n",
              "          const element = document.querySelector('#df-ec7c017a-be35-4a5a-a087-1a288c6ccfc0');\n",
              "          const dataTable =\n",
              "            await google.colab.kernel.invokeFunction('convertToInteractive',\n",
              "                                                     [key], {});\n",
              "          if (!dataTable) return;\n",
              "\n",
              "          const docLinkHtml = 'Like what you see? Visit the ' +\n",
              "            '<a target=\"_blank\" href=https://colab.research.google.com/notebooks/data_table.ipynb>data table notebook</a>'\n",
              "            + ' to learn more about interactive tables.';\n",
              "          element.innerHTML = '';\n",
              "          dataTable['output_type'] = 'display_data';\n",
              "          await google.colab.output.renderOutput(dataTable, element);\n",
              "          const docLink = document.createElement('div');\n",
              "          docLink.innerHTML = docLinkHtml;\n",
              "          element.appendChild(docLink);\n",
              "        }\n",
              "      </script>\n",
              "    </div>\n",
              "  </div>\n",
              "  "
            ],
            "text/plain": [
              "                           Intercept   slavicshare  ...   vsall03   brdcont\n",
              "Intercept                  10.073281 -2.175941e-02  ... -0.685161 -0.322368\n",
              "slavicshare                -0.021759  4.905047e-04  ... -0.001418  0.004298\n",
              "changenonslav              -0.376554  4.305058e-03  ...  0.019171  0.055818\n",
              "slavicshare_changenonslav   0.004221 -5.822067e-05  ... -0.000084 -0.000680\n",
              "inc9903                     0.000126 -1.047080e-07  ... -0.000004 -0.000024\n",
              "eduhi02                    -0.013565  2.107277e-05  ... -0.000635  0.000718\n",
              "unemp02                    -0.725426 -1.457091e-04  ...  0.012112  0.058402\n",
              "apt9200                    -0.053394 -3.868874e-04  ...  0.007354 -0.007781\n",
              "vsall03                    -0.685161 -1.417979e-03  ...  0.109903  0.026928\n",
              "brdcont                    -0.322368  4.298085e-03  ...  0.026928  0.425536\n",
              "\n",
              "[10 rows x 10 columns]"
            ]
          },
          "metadata": {},
          "execution_count": 65
        }
      ]
    },
    {
      "cell_type": "code",
      "source": [
        "varb1=V.loc['slavicshare','slavicshare'] # this is the V[1,1] in STATA.\n",
        "varb2=V.loc['changenonslav','changenonslav'] #V[2,2]\n",
        "varb3=V.loc['slavicshare_changenonslav','slavicshare_changenonslav'] #V[3,3]\n"
      ],
      "metadata": {
        "id": "vEZ5xZvk33S5"
      },
      "execution_count": 264,
      "outputs": []
    },
    {
      "cell_type": "code",
      "source": [
        "covb1b3=V.loc['slavicshare','slavicshare_changenonslav'] #covariate of b1 and b3 V[1,3]\n",
        "covb2b3=V.loc['changenonslav', 'slavicshare_changenonslav'] ##covariate of b2 and b3 V[2,3]"
      ],
      "metadata": {
        "id": "GstsnhgR449l"
      },
      "execution_count": 265,
      "outputs": []
    },
    {
      "cell_type": "code",
      "source": [
        "#to see all values, I store them in a dictionary. All values are the same with Golder's STATA codes, which is good. \n",
        "\n",
        "data_dic= {'b1':b1, 'b2':b2, 'b3':b3, \n",
        "           'varb1':varb1, 'varb2':varb2, 'varb3':varb3,\n",
        "           'covb1b3':covb1b3, 'covb2b3':covb2b3}\n",
        "data_dic"
      ],
      "metadata": {
        "colab": {
          "base_uri": "https://localhost:8080/"
        },
        "id": "MvbMWwht3cJ2",
        "outputId": "c017b646-0c19-46f2-f939-c65c5d475d09"
      },
      "execution_count": 267,
      "outputs": [
        {
          "output_type": "execute_result",
          "data": {
            "text/plain": [
              "{'b1': 0.03148617146154395,\n",
              " 'b2': -0.8511076068287307,\n",
              " 'b3': 0.008225912336638984,\n",
              " 'covb1b3': -5.822066622300277e-05,\n",
              " 'covb2b3': -0.0014363668414884396,\n",
              " 'varb1': 0.0004905046628589031,\n",
              " 'varb2': 0.10367908764195664,\n",
              " 'varb3': 2.1823522703312377e-05}"
            ]
          },
          "metadata": {},
          "execution_count": 267
        }
      ]
    },
    {
      "cell_type": "markdown",
      "source": [
        "### Now here is the fun part."
      ],
      "metadata": {
        "id": "xKj7ue6WuD5V"
      }
    },
    {
      "cell_type": "code",
      "source": [
        "df['changenonslav'].describe().T\n",
        "\n",
        "#we can see that min value for our Z variable is -1.93 and max is 12.98.\n",
        "#Good to know this info because we will run a simulation across this range. "
      ],
      "metadata": {
        "colab": {
          "base_uri": "https://localhost:8080/"
        },
        "id": "p9UX80avu49m",
        "outputId": "a4bf95ad-cf3f-4060-9742-dd8551ed88f6"
      },
      "execution_count": 398,
      "outputs": [
        {
          "output_type": "execute_result",
          "data": {
            "text/plain": [
              "count    72.000000\n",
              "mean      1.875956\n",
              "std       2.901342\n",
              "min      -1.934565\n",
              "25%       0.156817\n",
              "50%       1.113418\n",
              "75%       2.255072\n",
              "max      12.986169\n",
              "Name: changenonslav, dtype: float64"
            ]
          },
          "metadata": {},
          "execution_count": 398
        }
      ]
    },
    {
      "cell_type": "code",
      "source": [
        "#After finding all the essential matrix and vector components\n",
        "#We can run a simulation\n",
        "\n",
        "MVZ=np.linspace(-1.93, 13, 1501)\n",
        "\n",
        "#this line of code creates 1501 observation that first observation starts from -1.93 and ends at 13. \n",
        "#This numbers are not random. We choose based on our Z variable. \n",
        "#This part is in STATA generate (_n-200)/100 part. \n",
        "\n",
        "#Why 1501? Because we want to limit our simulation for our max value, which is 13.\n",
        "#So at 1501 observation, we reach 13, and we do not consider the rest as they will be over our range. "
      ],
      "metadata": {
        "id": "LDbdhdQV8r69"
      },
      "execution_count": 287,
      "outputs": []
    },
    {
      "cell_type": "code",
      "source": [
        "#marginal effect of X on Y , conbx, for the desired values of the modifying variable Z\n",
        "conbx=b1+b3*MVZ\n",
        "conbx"
      ],
      "metadata": {
        "colab": {
          "base_uri": "https://localhost:8080/"
        },
        "id": "4mQ90pGbCIhc",
        "outputId": "673c4232-93b0-41f3-82ac-a4f1f6bf472b"
      },
      "execution_count": 288,
      "outputs": [
        {
          "output_type": "execute_result",
          "data": {
            "text/plain": [
              "array([0.01561016, 0.01569204, 0.01577391, ..., 0.13825928, 0.13834116,\n",
              "       0.13842303])"
            ]
          },
          "metadata": {},
          "execution_count": 288
        }
      ]
    },
    {
      "cell_type": "code",
      "source": [
        "# The standard error for the marginal effect of X for an interactive model\n",
        "consx=np.sqrt(varb1+varb3*MVZ**2+2*covb1b3*MVZ)"
      ],
      "metadata": {
        "id": "08nHvbTlCIW7"
      },
      "execution_count": 291,
      "outputs": []
    },
    {
      "cell_type": "code",
      "source": [
        "#to create two-tailed 95% conﬁdence intervals, upper lower values.\n",
        "ax=1.96*consx\n",
        "upperx=conbx+ax\n",
        "lowerx=conbx-ax"
      ],
      "metadata": {
        "id": "z7b6vF9kCINa"
      },
      "execution_count": 399,
      "outputs": []
    },
    {
      "cell_type": "markdown",
      "source": [
        "## Great! We are ready to plot the interaction effect."
      ],
      "metadata": {
        "id": "GBYaJCHbw1tT"
      }
    },
    {
      "cell_type": "code",
      "source": [
        "print(plt.style.available) #this is a reference for available themes. just for design. "
      ],
      "metadata": {
        "colab": {
          "base_uri": "https://localhost:8080/"
        },
        "id": "HHcoRaJze-xD",
        "outputId": "54aa8247-52d5-4bb6-d4c9-fb4c26253ee3"
      },
      "execution_count": 379,
      "outputs": [
        {
          "output_type": "stream",
          "name": "stdout",
          "text": [
            "['Solarize_Light2', '_classic_test_patch', 'bmh', 'classic', 'dark_background', 'fast', 'fivethirtyeight', 'ggplot', 'grayscale', 'seaborn', 'seaborn-bright', 'seaborn-colorblind', 'seaborn-dark', 'seaborn-dark-palette', 'seaborn-darkgrid', 'seaborn-deep', 'seaborn-muted', 'seaborn-notebook', 'seaborn-paper', 'seaborn-pastel', 'seaborn-poster', 'seaborn-talk', 'seaborn-ticks', 'seaborn-white', 'seaborn-whitegrid', 'tableau-colorblind10']\n"
          ]
        }
      ]
    },
    {
      "cell_type": "code",
      "source": [
        "plt.rcParams.update({'font.size': 16}) #to set font size for all properties of plot\n",
        "plt.style.use('seaborn-colorblind') #choose a theme from the list above. \n",
        "\n",
        "fig, axes= plt.subplots(figsize=(10,8)) # Initiate a figure and axes. \n",
        "axes.plot(MVZ, conbx) # plot our interaction effect line\n",
        "axes.plot(MVZ, upperx, color='gray', linestyle='--') # plot upper confidence interval\n",
        "axes.plot(MVZ, lowerx, color='gray',linestyle='--') # plot lower confidence interval\n",
        "sns.rugplot(df['changenonslav'], height=0.05, color='k') #Golder suggests to have rug plot. Here it is. \n",
        "axes.hlines(0, -2, 12) # this is y=0 line \n",
        "axes.set_title('Marginal Effect of Slavic Share on Xenophobic Voting') #title \n",
        "axes.set_xlabel('Non-Slavic Share') #x axis \n",
        "axes.set_ylabel('Marginal Effect of Slavic Share') # y axis\n",
        "axes1=axes.twinx() # to be able to show histogram on the same axes. we need to duplicate the axis. \n",
        "axes1.hist(df['changenonslav'], alpha=0.2, width=1.5, color='gray') #histogram\n",
        "axes.set_facecolor('white') # some more design \n",
        "plt.grid(False) #no grid please\n",
        "#fig.savefig('interactionplot.png')\n",
        "plt.show()\n",
        "\n"
      ],
      "metadata": {
        "colab": {
          "base_uri": "https://localhost:8080/",
          "height": 559
        },
        "id": "aj6MR66QGQMW",
        "outputId": "b7d3304e-1e9a-448f-a504-6db2083b200b"
      },
      "execution_count": 400,
      "outputs": [
        {
          "output_type": "display_data",
          "data": {
            "image/png": "[encoded data removed]",
            "text/plain": [
              "<Figure size 720x576 with 2 Axes>"
            ]
          },
          "metadata": {}
        }
      ]
    },
    {
      "cell_type": "markdown",
      "source": [
        "# The end!\n",
        "\n",
        "- We successfully replicated Golder's STATA codes using Python."
      ],
      "metadata": {
        "id": "HkTsmEd1yOih"
      }
    },
    {
      "cell_type": "code",
      "source": [
        ""
      ],
      "metadata": {
        "id": "kINI2tWhIEDq"
      },
      "execution_count": 228,
      "outputs": []
    },
    {
      "cell_type": "code",
      "source": [
        ""
      ],
      "metadata": {
        "id": "mOvEGBU3Ncpc"
      },
      "execution_count": 296,
      "outputs": []
    },
    {
      "cell_type": "code",
      "source": [
        ""
      ],
      "metadata": {
        "id": "9Ho1Zg3xwHAT"
      },
      "execution_count": null,
      "outputs": []
    }
  ]
}
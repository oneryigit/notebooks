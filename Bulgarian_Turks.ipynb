{
  "nbformat": 4,
  "nbformat_minor": 0,
  "metadata": {
    "colab": {
      "name": "Bulgarian Turks.ipynb",
      "provenance": [],
      "mount_file_id": "1yUs3HoLE1J_ksQAygsRIlpOpJworVJLT",
      "authorship_tag": "ABX9TyPNCmJZVQshM9PYDKHomlJS",
      "include_colab_link": true
    },
    "kernelspec": {
      "name": "python3",
      "display_name": "Python 3"
    },
    "language_info": {
      "name": "python"
    }
  },
  "cells": [
    {
      "cell_type": "markdown",
      "metadata": {
        "id": "view-in-github",
        "colab_type": "text"
      },
      "source": [
        "<a href=\"https://colab.research.google.com/github/oneryigit/tutorials/blob/main/Bulgarian_Turks.ipynb\" target=\"_parent\"><img src=\"https://colab.research.google.com/assets/colab-badge.svg\" alt=\"Open In Colab\"/></a>"
      ]
    },
    {
      "cell_type": "markdown",
      "source": [
        "# Geocoding Ethnic Groups using `geopandas`\n",
        "\n",
        "\n",
        "- Data: Ethnic Power Relations: [You can find it here](https://icr.ethz.ch/data/epr/geoepr/)\n",
        "\n",
        "- I show where ethnic Turks live in Bulgaria according to EPR.\n"
      ],
      "metadata": {
        "id": "144kXZ5-dzSB"
      }
    },
    {
      "cell_type": "code",
      "source": [
        "#pip install geopandas"
      ],
      "metadata": {
        "id": "DZu__o57Ylu_"
      },
      "execution_count": 1,
      "outputs": []
    },
    {
      "cell_type": "code",
      "source": [
        "from google.colab import drive\n",
        "drive.mount('/content/drive')"
      ],
      "metadata": {
        "colab": {
          "base_uri": "https://localhost:8080/"
        },
        "id": "uOTvMhK5Z1nN",
        "outputId": "28b9d898-27e6-4ce3-c687-5560aaaa43df"
      },
      "execution_count": 2,
      "outputs": [
        {
          "output_type": "stream",
          "name": "stdout",
          "text": [
            "Drive already mounted at /content/drive; to attempt to forcibly remount, call drive.mount(\"/content/drive\", force_remount=True).\n"
          ]
        }
      ]
    },
    {
      "cell_type": "code",
      "execution_count": 3,
      "metadata": {
        "id": "a_KLUSWVYfvq"
      },
      "outputs": [],
      "source": [
        "import pandas as pd\n",
        "import geopandas as gpd\n",
        "\n",
        "import matplotlib.pyplot as plt"
      ]
    },
    {
      "cell_type": "markdown",
      "source": [
        "## Reading GEO_EPR Dataset"
      ],
      "metadata": {
        "id": "R3nEVMouYz8W"
      }
    },
    {
      "cell_type": "code",
      "source": [
        "df= pd.read_csv('GeoEPR-2021.csv')\n",
        "\n",
        "df.head()"
      ],
      "metadata": {
        "colab": {
          "base_uri": "https://localhost:8080/",
          "height": 206
        },
        "id": "3WGhpPdYYiSd",
        "outputId": "6f7c2b5f-acdf-4e90-a0db-fb3b5e9819ed"
      },
      "execution_count": 4,
      "outputs": [
        {
          "output_type": "execute_result",
          "data": {
            "text/html": [
              "\n",
              "  <div id=\"df-73e2355e-a9d8-4fed-8ad0-fe6e10d5c7fa\">\n",
              "    <div class=\"colab-df-container\">\n",
              "      <div>\n",
              "<style scoped>\n",
              "    .dataframe tbody tr th:only-of-type {\n",
              "        vertical-align: middle;\n",
              "    }\n",
              "\n",
              "    .dataframe tbody tr th {\n",
              "        vertical-align: top;\n",
              "    }\n",
              "\n",
              "    .dataframe thead th {\n",
              "        text-align: right;\n",
              "    }\n",
              "</style>\n",
              "<table border=\"1\" class=\"dataframe\">\n",
              "  <thead>\n",
              "    <tr style=\"text-align: right;\">\n",
              "      <th></th>\n",
              "      <th>gwid</th>\n",
              "      <th>statename</th>\n",
              "      <th>from</th>\n",
              "      <th>to</th>\n",
              "      <th>group</th>\n",
              "      <th>groupid</th>\n",
              "      <th>gwgroupid</th>\n",
              "      <th>umbrella</th>\n",
              "      <th>sqkm</th>\n",
              "      <th>type</th>\n",
              "      <th>the_geom</th>\n",
              "    </tr>\n",
              "  </thead>\n",
              "  <tbody>\n",
              "    <tr>\n",
              "      <th>0</th>\n",
              "      <td>2</td>\n",
              "      <td>United States of America</td>\n",
              "      <td>1946</td>\n",
              "      <td>1958</td>\n",
              "      <td>Whites</td>\n",
              "      <td>1000</td>\n",
              "      <td>201000</td>\n",
              "      <td>NaN</td>\n",
              "      <td>7940038</td>\n",
              "      <td>Statewide</td>\n",
              "      <td>SRID=4326;MULTIPOLYGON (((-93.81889091978115 4...</td>\n",
              "    </tr>\n",
              "    <tr>\n",
              "      <th>1</th>\n",
              "      <td>2</td>\n",
              "      <td>United States of America</td>\n",
              "      <td>1946</td>\n",
              "      <td>1958</td>\n",
              "      <td>African Americans</td>\n",
              "      <td>3000</td>\n",
              "      <td>203000</td>\n",
              "      <td>NaN</td>\n",
              "      <td>1037020</td>\n",
              "      <td>Regional &amp; urban</td>\n",
              "      <td>SRID=4326;MULTIPOLYGON (((-73.17778189969161 4...</td>\n",
              "    </tr>\n",
              "    <tr>\n",
              "      <th>2</th>\n",
              "      <td>2</td>\n",
              "      <td>United States of America</td>\n",
              "      <td>1946</td>\n",
              "      <td>1958</td>\n",
              "      <td>American Indians</td>\n",
              "      <td>5000</td>\n",
              "      <td>205000</td>\n",
              "      <td>NaN</td>\n",
              "      <td>939761</td>\n",
              "      <td>Regionally based</td>\n",
              "      <td>SRID=4326;MULTIPOLYGON (((-73.91164589888828 4...</td>\n",
              "    </tr>\n",
              "    <tr>\n",
              "      <th>3</th>\n",
              "      <td>2</td>\n",
              "      <td>United States of America</td>\n",
              "      <td>1959</td>\n",
              "      <td>1959</td>\n",
              "      <td>Whites</td>\n",
              "      <td>1000</td>\n",
              "      <td>201000</td>\n",
              "      <td>NaN</td>\n",
              "      <td>7940038</td>\n",
              "      <td>Statewide</td>\n",
              "      <td>SRID=4326;MULTIPOLYGON (((-93.81889091978115 4...</td>\n",
              "    </tr>\n",
              "    <tr>\n",
              "      <th>4</th>\n",
              "      <td>2</td>\n",
              "      <td>United States of America</td>\n",
              "      <td>1959</td>\n",
              "      <td>1959</td>\n",
              "      <td>African Americans</td>\n",
              "      <td>3000</td>\n",
              "      <td>203000</td>\n",
              "      <td>NaN</td>\n",
              "      <td>1037020</td>\n",
              "      <td>Regional &amp; urban</td>\n",
              "      <td>SRID=4326;MULTIPOLYGON (((-73.17778189969161 4...</td>\n",
              "    </tr>\n",
              "  </tbody>\n",
              "</table>\n",
              "</div>\n",
              "      <button class=\"colab-df-convert\" onclick=\"convertToInteractive('df-73e2355e-a9d8-4fed-8ad0-fe6e10d5c7fa')\"\n",
              "              title=\"Convert this dataframe to an interactive table.\"\n",
              "              style=\"display:none;\">\n",
              "        \n",
              "  <svg xmlns=\"http://www.w3.org/2000/svg\" height=\"24px\"viewBox=\"0 0 24 24\"\n",
              "       width=\"24px\">\n",
              "    <path d=\"M0 0h24v24H0V0z\" fill=\"none\"/>\n",
              "    <path d=\"M18.56 5.44l.94 2.06.94-2.06 2.06-.94-2.06-.94-.94-2.06-.94 2.06-2.06.94zm-11 1L8.5 8.5l.94-2.06 2.06-.94-2.06-.94L8.5 2.5l-.94 2.06-2.06.94zm10 10l.94 2.06.94-2.06 2.06-.94-2.06-.94-.94-2.06-.94 2.06-2.06.94z\"/><path d=\"M17.41 7.96l-1.37-1.37c-.4-.4-.92-.59-1.43-.59-.52 0-1.04.2-1.43.59L10.3 9.45l-7.72 7.72c-.78.78-.78 2.05 0 2.83L4 21.41c.39.39.9.59 1.41.59.51 0 1.02-.2 1.41-.59l7.78-7.78 2.81-2.81c.8-.78.8-2.07 0-2.86zM5.41 20L4 18.59l7.72-7.72 1.47 1.35L5.41 20z\"/>\n",
              "  </svg>\n",
              "      </button>\n",
              "      \n",
              "  <style>\n",
              "    .colab-df-container {\n",
              "      display:flex;\n",
              "      flex-wrap:wrap;\n",
              "      gap: 12px;\n",
              "    }\n",
              "\n",
              "    .colab-df-convert {\n",
              "      background-color: #E8F0FE;\n",
              "      border: none;\n",
              "      border-radius: 50%;\n",
              "      cursor: pointer;\n",
              "      display: none;\n",
              "      fill: #1967D2;\n",
              "      height: 32px;\n",
              "      padding: 0 0 0 0;\n",
              "      width: 32px;\n",
              "    }\n",
              "\n",
              "    .colab-df-convert:hover {\n",
              "      background-color: #E2EBFA;\n",
              "      box-shadow: 0px 1px 2px rgba(60, 64, 67, 0.3), 0px 1px 3px 1px rgba(60, 64, 67, 0.15);\n",
              "      fill: #174EA6;\n",
              "    }\n",
              "\n",
              "    [theme=dark] .colab-df-convert {\n",
              "      background-color: #3B4455;\n",
              "      fill: #D2E3FC;\n",
              "    }\n",
              "\n",
              "    [theme=dark] .colab-df-convert:hover {\n",
              "      background-color: #434B5C;\n",
              "      box-shadow: 0px 1px 3px 1px rgba(0, 0, 0, 0.15);\n",
              "      filter: drop-shadow(0px 1px 2px rgba(0, 0, 0, 0.3));\n",
              "      fill: #FFFFFF;\n",
              "    }\n",
              "  </style>\n",
              "\n",
              "      <script>\n",
              "        const buttonEl =\n",
              "          document.querySelector('#df-73e2355e-a9d8-4fed-8ad0-fe6e10d5c7fa button.colab-df-convert');\n",
              "        buttonEl.style.display =\n",
              "          google.colab.kernel.accessAllowed ? 'block' : 'none';\n",
              "\n",
              "        async function convertToInteractive(key) {\n",
              "          const element = document.querySelector('#df-73e2355e-a9d8-4fed-8ad0-fe6e10d5c7fa');\n",
              "          const dataTable =\n",
              "            await google.colab.kernel.invokeFunction('convertToInteractive',\n",
              "                                                     [key], {});\n",
              "          if (!dataTable) return;\n",
              "\n",
              "          const docLinkHtml = 'Like what you see? Visit the ' +\n",
              "            '<a target=\"_blank\" href=https://colab.research.google.com/notebooks/data_table.ipynb>data table notebook</a>'\n",
              "            + ' to learn more about interactive tables.';\n",
              "          element.innerHTML = '';\n",
              "          dataTable['output_type'] = 'display_data';\n",
              "          await google.colab.output.renderOutput(dataTable, element);\n",
              "          const docLink = document.createElement('div');\n",
              "          docLink.innerHTML = docLinkHtml;\n",
              "          element.appendChild(docLink);\n",
              "        }\n",
              "      </script>\n",
              "    </div>\n",
              "  </div>\n",
              "  "
            ],
            "text/plain": [
              "   gwid  ...                                           the_geom\n",
              "0     2  ...  SRID=4326;MULTIPOLYGON (((-93.81889091978115 4...\n",
              "1     2  ...  SRID=4326;MULTIPOLYGON (((-73.17778189969161 4...\n",
              "2     2  ...  SRID=4326;MULTIPOLYGON (((-73.91164589888828 4...\n",
              "3     2  ...  SRID=4326;MULTIPOLYGON (((-93.81889091978115 4...\n",
              "4     2  ...  SRID=4326;MULTIPOLYGON (((-73.17778189969161 4...\n",
              "\n",
              "[5 rows x 11 columns]"
            ]
          },
          "metadata": {},
          "execution_count": 4
        }
      ]
    },
    {
      "cell_type": "code",
      "source": [
        "#Subseting Bulgaria\n",
        "\n",
        "bulgaria=df[df['statename']=='Bulgaria']\n",
        "\n",
        "bulgaria #so only Turks and Bulgarians have geocoding. "
      ],
      "metadata": {
        "colab": {
          "base_uri": "https://localhost:8080/",
          "height": 206
        },
        "id": "r9qJrAVqYzOn",
        "outputId": "30a09f6a-7fd0-4dfa-e847-9404db16e04c"
      },
      "execution_count": 5,
      "outputs": [
        {
          "output_type": "execute_result",
          "data": {
            "text/html": [
              "\n",
              "  <div id=\"df-89d552d6-1c36-4d4a-8601-4fb5ab1b5eb8\">\n",
              "    <div class=\"colab-df-container\">\n",
              "      <div>\n",
              "<style scoped>\n",
              "    .dataframe tbody tr th:only-of-type {\n",
              "        vertical-align: middle;\n",
              "    }\n",
              "\n",
              "    .dataframe tbody tr th {\n",
              "        vertical-align: top;\n",
              "    }\n",
              "\n",
              "    .dataframe thead th {\n",
              "        text-align: right;\n",
              "    }\n",
              "</style>\n",
              "<table border=\"1\" class=\"dataframe\">\n",
              "  <thead>\n",
              "    <tr style=\"text-align: right;\">\n",
              "      <th></th>\n",
              "      <th>gwid</th>\n",
              "      <th>statename</th>\n",
              "      <th>from</th>\n",
              "      <th>to</th>\n",
              "      <th>group</th>\n",
              "      <th>groupid</th>\n",
              "      <th>gwgroupid</th>\n",
              "      <th>umbrella</th>\n",
              "      <th>sqkm</th>\n",
              "      <th>type</th>\n",
              "      <th>the_geom</th>\n",
              "    </tr>\n",
              "  </thead>\n",
              "  <tbody>\n",
              "    <tr>\n",
              "      <th>277</th>\n",
              "      <td>355</td>\n",
              "      <td>Bulgaria</td>\n",
              "      <td>1958</td>\n",
              "      <td>2021</td>\n",
              "      <td>Bulgarians</td>\n",
              "      <td>1000</td>\n",
              "      <td>35501000</td>\n",
              "      <td>NaN</td>\n",
              "      <td>111010</td>\n",
              "      <td>Statewide</td>\n",
              "      <td>SRID=4326;MULTIPOLYGON (((22.93560019 41.34212...</td>\n",
              "    </tr>\n",
              "    <tr>\n",
              "      <th>278</th>\n",
              "      <td>355</td>\n",
              "      <td>Bulgaria</td>\n",
              "      <td>1958</td>\n",
              "      <td>2021</td>\n",
              "      <td>Turkish</td>\n",
              "      <td>2000</td>\n",
              "      <td>35502000</td>\n",
              "      <td>NaN</td>\n",
              "      <td>9990</td>\n",
              "      <td>Regionally based</td>\n",
              "      <td>SRID=4326;MULTIPOLYGON (((28.24634531 43.72921...</td>\n",
              "    </tr>\n",
              "    <tr>\n",
              "      <th>279</th>\n",
              "      <td>355</td>\n",
              "      <td>Bulgaria</td>\n",
              "      <td>1958</td>\n",
              "      <td>2021</td>\n",
              "      <td>Roma</td>\n",
              "      <td>3000</td>\n",
              "      <td>35503000</td>\n",
              "      <td>NaN</td>\n",
              "      <td>0</td>\n",
              "      <td>Dispersed</td>\n",
              "      <td>SRID=4326;MULTIPOLYGON EMPTY</td>\n",
              "    </tr>\n",
              "    <tr>\n",
              "      <th>280</th>\n",
              "      <td>355</td>\n",
              "      <td>Bulgaria</td>\n",
              "      <td>1958</td>\n",
              "      <td>1989</td>\n",
              "      <td>Pomaks</td>\n",
              "      <td>4000</td>\n",
              "      <td>35504000</td>\n",
              "      <td>NaN</td>\n",
              "      <td>0</td>\n",
              "      <td>Dispersed</td>\n",
              "      <td>SRID=4326;MULTIPOLYGON EMPTY</td>\n",
              "    </tr>\n",
              "    <tr>\n",
              "      <th>281</th>\n",
              "      <td>355</td>\n",
              "      <td>Bulgaria</td>\n",
              "      <td>1999</td>\n",
              "      <td>2021</td>\n",
              "      <td>Macedonians</td>\n",
              "      <td>5000</td>\n",
              "      <td>35505000</td>\n",
              "      <td>NaN</td>\n",
              "      <td>0</td>\n",
              "      <td>Dispersed</td>\n",
              "      <td>SRID=4326;MULTIPOLYGON EMPTY</td>\n",
              "    </tr>\n",
              "  </tbody>\n",
              "</table>\n",
              "</div>\n",
              "      <button class=\"colab-df-convert\" onclick=\"convertToInteractive('df-89d552d6-1c36-4d4a-8601-4fb5ab1b5eb8')\"\n",
              "              title=\"Convert this dataframe to an interactive table.\"\n",
              "              style=\"display:none;\">\n",
              "        \n",
              "  <svg xmlns=\"http://www.w3.org/2000/svg\" height=\"24px\"viewBox=\"0 0 24 24\"\n",
              "       width=\"24px\">\n",
              "    <path d=\"M0 0h24v24H0V0z\" fill=\"none\"/>\n",
              "    <path d=\"M18.56 5.44l.94 2.06.94-2.06 2.06-.94-2.06-.94-.94-2.06-.94 2.06-2.06.94zm-11 1L8.5 8.5l.94-2.06 2.06-.94-2.06-.94L8.5 2.5l-.94 2.06-2.06.94zm10 10l.94 2.06.94-2.06 2.06-.94-2.06-.94-.94-2.06-.94 2.06-2.06.94z\"/><path d=\"M17.41 7.96l-1.37-1.37c-.4-.4-.92-.59-1.43-.59-.52 0-1.04.2-1.43.59L10.3 9.45l-7.72 7.72c-.78.78-.78 2.05 0 2.83L4 21.41c.39.39.9.59 1.41.59.51 0 1.02-.2 1.41-.59l7.78-7.78 2.81-2.81c.8-.78.8-2.07 0-2.86zM5.41 20L4 18.59l7.72-7.72 1.47 1.35L5.41 20z\"/>\n",
              "  </svg>\n",
              "      </button>\n",
              "      \n",
              "  <style>\n",
              "    .colab-df-container {\n",
              "      display:flex;\n",
              "      flex-wrap:wrap;\n",
              "      gap: 12px;\n",
              "    }\n",
              "\n",
              "    .colab-df-convert {\n",
              "      background-color: #E8F0FE;\n",
              "      border: none;\n",
              "      border-radius: 50%;\n",
              "      cursor: pointer;\n",
              "      display: none;\n",
              "      fill: #1967D2;\n",
              "      height: 32px;\n",
              "      padding: 0 0 0 0;\n",
              "      width: 32px;\n",
              "    }\n",
              "\n",
              "    .colab-df-convert:hover {\n",
              "      background-color: #E2EBFA;\n",
              "      box-shadow: 0px 1px 2px rgba(60, 64, 67, 0.3), 0px 1px 3px 1px rgba(60, 64, 67, 0.15);\n",
              "      fill: #174EA6;\n",
              "    }\n",
              "\n",
              "    [theme=dark] .colab-df-convert {\n",
              "      background-color: #3B4455;\n",
              "      fill: #D2E3FC;\n",
              "    }\n",
              "\n",
              "    [theme=dark] .colab-df-convert:hover {\n",
              "      background-color: #434B5C;\n",
              "      box-shadow: 0px 1px 3px 1px rgba(0, 0, 0, 0.15);\n",
              "      filter: drop-shadow(0px 1px 2px rgba(0, 0, 0, 0.3));\n",
              "      fill: #FFFFFF;\n",
              "    }\n",
              "  </style>\n",
              "\n",
              "      <script>\n",
              "        const buttonEl =\n",
              "          document.querySelector('#df-89d552d6-1c36-4d4a-8601-4fb5ab1b5eb8 button.colab-df-convert');\n",
              "        buttonEl.style.display =\n",
              "          google.colab.kernel.accessAllowed ? 'block' : 'none';\n",
              "\n",
              "        async function convertToInteractive(key) {\n",
              "          const element = document.querySelector('#df-89d552d6-1c36-4d4a-8601-4fb5ab1b5eb8');\n",
              "          const dataTable =\n",
              "            await google.colab.kernel.invokeFunction('convertToInteractive',\n",
              "                                                     [key], {});\n",
              "          if (!dataTable) return;\n",
              "\n",
              "          const docLinkHtml = 'Like what you see? Visit the ' +\n",
              "            '<a target=\"_blank\" href=https://colab.research.google.com/notebooks/data_table.ipynb>data table notebook</a>'\n",
              "            + ' to learn more about interactive tables.';\n",
              "          element.innerHTML = '';\n",
              "          dataTable['output_type'] = 'display_data';\n",
              "          await google.colab.output.renderOutput(dataTable, element);\n",
              "          const docLink = document.createElement('div');\n",
              "          docLink.innerHTML = docLinkHtml;\n",
              "          element.appendChild(docLink);\n",
              "        }\n",
              "      </script>\n",
              "    </div>\n",
              "  </div>\n",
              "  "
            ],
            "text/plain": [
              "     gwid  ...                                           the_geom\n",
              "277   355  ...  SRID=4326;MULTIPOLYGON (((22.93560019 41.34212...\n",
              "278   355  ...  SRID=4326;MULTIPOLYGON (((28.24634531 43.72921...\n",
              "279   355  ...                       SRID=4326;MULTIPOLYGON EMPTY\n",
              "280   355  ...                       SRID=4326;MULTIPOLYGON EMPTY\n",
              "281   355  ...                       SRID=4326;MULTIPOLYGON EMPTY\n",
              "\n",
              "[5 rows x 11 columns]"
            ]
          },
          "metadata": {},
          "execution_count": 5
        }
      ]
    },
    {
      "cell_type": "code",
      "source": [
        "#Subseting Bulgaria\n",
        "\n",
        "bulgar=df[df['statename']=='Bulgaria']\n",
        "\n",
        "#I am not sure why EPR has 'SRID=4326' attached to the geometry column.\n",
        "# So I deleted using regex. I am sure there is another way too. \n",
        "bulgar['the_geom']=bulgar.the_geom.str.replace(r'SRID=4326;','')\n",
        "\n",
        "#assigning geometry column from EPR\n",
        "bulgar['the_geom']=gpd.GeoSeries.from_wkt(bulgar['the_geom'])\n",
        "#creating geo DataFrame\n",
        "bul_geo=gpd.GeoDataFrame(bulgar, geometry=bulgar['the_geom'], crs='EPSG:4326')\n",
        "\n",
        "# where Turks are in Bulgaria\n",
        "turk_bul=bul_geo[bul_geo.group=='Turkish']\n",
        "\n",
        "turk_bul"
      ],
      "metadata": {
        "colab": {
          "base_uri": "https://localhost:8080/",
          "height": 350
        },
        "id": "chcKaReLaOWU",
        "outputId": "635ef6b2-26fd-43d7-880a-e11ff343a623"
      },
      "execution_count": 6,
      "outputs": [
        {
          "output_type": "stream",
          "name": "stderr",
          "text": [
            "/usr/local/lib/python3.7/dist-packages/ipykernel_launcher.py:7: SettingWithCopyWarning: \n",
            "A value is trying to be set on a copy of a slice from a DataFrame.\n",
            "Try using .loc[row_indexer,col_indexer] = value instead\n",
            "\n",
            "See the caveats in the documentation: https://pandas.pydata.org/pandas-docs/stable/user_guide/indexing.html#returning-a-view-versus-a-copy\n",
            "  import sys\n",
            "/usr/local/lib/python3.7/dist-packages/ipykernel_launcher.py:10: SettingWithCopyWarning: \n",
            "A value is trying to be set on a copy of a slice from a DataFrame.\n",
            "Try using .loc[row_indexer,col_indexer] = value instead\n",
            "\n",
            "See the caveats in the documentation: https://pandas.pydata.org/pandas-docs/stable/user_guide/indexing.html#returning-a-view-versus-a-copy\n",
            "  # Remove the CWD from sys.path while we load stuff.\n"
          ]
        },
        {
          "output_type": "execute_result",
          "data": {
            "text/html": [
              "\n",
              "  <div id=\"df-34cc6895-22d4-44c0-8b1b-7b3a941a0452\">\n",
              "    <div class=\"colab-df-container\">\n",
              "      <div>\n",
              "<style scoped>\n",
              "    .dataframe tbody tr th:only-of-type {\n",
              "        vertical-align: middle;\n",
              "    }\n",
              "\n",
              "    .dataframe tbody tr th {\n",
              "        vertical-align: top;\n",
              "    }\n",
              "\n",
              "    .dataframe thead th {\n",
              "        text-align: right;\n",
              "    }\n",
              "</style>\n",
              "<table border=\"1\" class=\"dataframe\">\n",
              "  <thead>\n",
              "    <tr style=\"text-align: right;\">\n",
              "      <th></th>\n",
              "      <th>gwid</th>\n",
              "      <th>statename</th>\n",
              "      <th>from</th>\n",
              "      <th>to</th>\n",
              "      <th>group</th>\n",
              "      <th>groupid</th>\n",
              "      <th>gwgroupid</th>\n",
              "      <th>umbrella</th>\n",
              "      <th>sqkm</th>\n",
              "      <th>type</th>\n",
              "      <th>the_geom</th>\n",
              "      <th>geometry</th>\n",
              "    </tr>\n",
              "  </thead>\n",
              "  <tbody>\n",
              "    <tr>\n",
              "      <th>278</th>\n",
              "      <td>355</td>\n",
              "      <td>Bulgaria</td>\n",
              "      <td>1958</td>\n",
              "      <td>2021</td>\n",
              "      <td>Turkish</td>\n",
              "      <td>2000</td>\n",
              "      <td>35502000</td>\n",
              "      <td>NaN</td>\n",
              "      <td>9990</td>\n",
              "      <td>Regionally based</td>\n",
              "      <td>MULTIPOLYGON (((28.24635 43.72922, 28.29413 43...</td>\n",
              "      <td>MULTIPOLYGON (((28.24635 43.72922, 28.29413 43...</td>\n",
              "    </tr>\n",
              "  </tbody>\n",
              "</table>\n",
              "</div>\n",
              "      <button class=\"colab-df-convert\" onclick=\"convertToInteractive('df-34cc6895-22d4-44c0-8b1b-7b3a941a0452')\"\n",
              "              title=\"Convert this dataframe to an interactive table.\"\n",
              "              style=\"display:none;\">\n",
              "        \n",
              "  <svg xmlns=\"http://www.w3.org/2000/svg\" height=\"24px\"viewBox=\"0 0 24 24\"\n",
              "       width=\"24px\">\n",
              "    <path d=\"M0 0h24v24H0V0z\" fill=\"none\"/>\n",
              "    <path d=\"M18.56 5.44l.94 2.06.94-2.06 2.06-.94-2.06-.94-.94-2.06-.94 2.06-2.06.94zm-11 1L8.5 8.5l.94-2.06 2.06-.94-2.06-.94L8.5 2.5l-.94 2.06-2.06.94zm10 10l.94 2.06.94-2.06 2.06-.94-2.06-.94-.94-2.06-.94 2.06-2.06.94z\"/><path d=\"M17.41 7.96l-1.37-1.37c-.4-.4-.92-.59-1.43-.59-.52 0-1.04.2-1.43.59L10.3 9.45l-7.72 7.72c-.78.78-.78 2.05 0 2.83L4 21.41c.39.39.9.59 1.41.59.51 0 1.02-.2 1.41-.59l7.78-7.78 2.81-2.81c.8-.78.8-2.07 0-2.86zM5.41 20L4 18.59l7.72-7.72 1.47 1.35L5.41 20z\"/>\n",
              "  </svg>\n",
              "      </button>\n",
              "      \n",
              "  <style>\n",
              "    .colab-df-container {\n",
              "      display:flex;\n",
              "      flex-wrap:wrap;\n",
              "      gap: 12px;\n",
              "    }\n",
              "\n",
              "    .colab-df-convert {\n",
              "      background-color: #E8F0FE;\n",
              "      border: none;\n",
              "      border-radius: 50%;\n",
              "      cursor: pointer;\n",
              "      display: none;\n",
              "      fill: #1967D2;\n",
              "      height: 32px;\n",
              "      padding: 0 0 0 0;\n",
              "      width: 32px;\n",
              "    }\n",
              "\n",
              "    .colab-df-convert:hover {\n",
              "      background-color: #E2EBFA;\n",
              "      box-shadow: 0px 1px 2px rgba(60, 64, 67, 0.3), 0px 1px 3px 1px rgba(60, 64, 67, 0.15);\n",
              "      fill: #174EA6;\n",
              "    }\n",
              "\n",
              "    [theme=dark] .colab-df-convert {\n",
              "      background-color: #3B4455;\n",
              "      fill: #D2E3FC;\n",
              "    }\n",
              "\n",
              "    [theme=dark] .colab-df-convert:hover {\n",
              "      background-color: #434B5C;\n",
              "      box-shadow: 0px 1px 3px 1px rgba(0, 0, 0, 0.15);\n",
              "      filter: drop-shadow(0px 1px 2px rgba(0, 0, 0, 0.3));\n",
              "      fill: #FFFFFF;\n",
              "    }\n",
              "  </style>\n",
              "\n",
              "      <script>\n",
              "        const buttonEl =\n",
              "          document.querySelector('#df-34cc6895-22d4-44c0-8b1b-7b3a941a0452 button.colab-df-convert');\n",
              "        buttonEl.style.display =\n",
              "          google.colab.kernel.accessAllowed ? 'block' : 'none';\n",
              "\n",
              "        async function convertToInteractive(key) {\n",
              "          const element = document.querySelector('#df-34cc6895-22d4-44c0-8b1b-7b3a941a0452');\n",
              "          const dataTable =\n",
              "            await google.colab.kernel.invokeFunction('convertToInteractive',\n",
              "                                                     [key], {});\n",
              "          if (!dataTable) return;\n",
              "\n",
              "          const docLinkHtml = 'Like what you see? Visit the ' +\n",
              "            '<a target=\"_blank\" href=https://colab.research.google.com/notebooks/data_table.ipynb>data table notebook</a>'\n",
              "            + ' to learn more about interactive tables.';\n",
              "          element.innerHTML = '';\n",
              "          dataTable['output_type'] = 'display_data';\n",
              "          await google.colab.output.renderOutput(dataTable, element);\n",
              "          const docLink = document.createElement('div');\n",
              "          docLink.innerHTML = docLinkHtml;\n",
              "          element.appendChild(docLink);\n",
              "        }\n",
              "      </script>\n",
              "    </div>\n",
              "  </div>\n",
              "  "
            ],
            "text/plain": [
              "     gwid  ...                                           geometry\n",
              "278   355  ...  MULTIPOLYGON (((28.24635 43.72922, 28.29413 43...\n",
              "\n",
              "[1 rows x 12 columns]"
            ]
          },
          "metadata": {},
          "execution_count": 6
        }
      ]
    },
    {
      "cell_type": "markdown",
      "source": [
        "##ShapeFile of Bulgaria"
      ],
      "metadata": {
        "id": "kfCAmA-5a9ka"
      }
    },
    {
      "cell_type": "code",
      "source": [
        "# Bulgaria's borders, our base map.\n",
        "# Reading from shape file. \n",
        "\n",
        "BUL= gpd.read_file('/content/drive/MyDrive/shapefiles/bulgaria shape/bgr_admbnda_adm1_UNICEF_2019.shp')\n",
        "\n",
        "BUL.plot(color='gray');"
      ],
      "metadata": {
        "colab": {
          "base_uri": "https://localhost:8080/",
          "height": 265
        },
        "id": "GSuMg-CjahGZ",
        "outputId": "1b88f896-3218-419a-f948-48f1fc4bbf45"
      },
      "execution_count": 7,
      "outputs": [
        {
          "output_type": "display_data",
          "data": {
            "image/png": "[encoded data removed]",
            "text/plain": [
              "<Figure size 432x288 with 1 Axes>"
            ]
          },
          "metadata": {
            "needs_background": "light"
          }
        }
      ]
    },
    {
      "cell_type": "markdown",
      "source": [
        "## ShapeFile of Turkey"
      ],
      "metadata": {
        "id": "aBzzqJxQbyIi"
      }
    },
    {
      "cell_type": "code",
      "source": [
        "# Turkey's borders\n",
        "# Reading from shape file.\n",
        "\n",
        "TR=gpd.read_file('/content/drive/MyDrive/shapefiles/turkey shape/tur_polbnda_adm1.shp')\n",
        "\n",
        "TR.plot(color='r');"
      ],
      "metadata": {
        "colab": {
          "base_uri": "https://localhost:8080/",
          "height": 189
        },
        "id": "5NjDl_ccbZNm",
        "outputId": "35a17db6-91f0-4d85-b9a7-ed8ce4304a83"
      },
      "execution_count": 8,
      "outputs": [
        {
          "output_type": "display_data",
          "data": {
            "image/png": "[encoded data removed]",
            "text/plain": [
              "<Figure size 432x288 with 1 Axes>"
            ]
          },
          "metadata": {
            "needs_background": "light"
          }
        }
      ]
    },
    {
      "cell_type": "markdown",
      "source": [
        "## Major cities"
      ],
      "metadata": {
        "id": "gml3mQuOb_o0"
      }
    },
    {
      "cell_type": "code",
      "source": [
        "# just search for latitude and longitude from google\n",
        "\n",
        "cities={'city':['Istanbul', 'Sofia'],\n",
        "    'latitude':[41.008, 42.697],\n",
        "    'longitude':[28.978, 23.321]}\n",
        "\n",
        "cities_df=pd.DataFrame(cities)\n",
        "\n",
        "cities_df"
      ],
      "metadata": {
        "colab": {
          "base_uri": "https://localhost:8080/",
          "height": 112
        },
        "id": "MFwaws5lbuqN",
        "outputId": "e8d1aaf0-58e2-4c06-93a4-faea8d030407"
      },
      "execution_count": 9,
      "outputs": [
        {
          "output_type": "execute_result",
          "data": {
            "text/html": [
              "\n",
              "  <div id=\"df-3fa49574-5849-414d-a04e-844708e57344\">\n",
              "    <div class=\"colab-df-container\">\n",
              "      <div>\n",
              "<style scoped>\n",
              "    .dataframe tbody tr th:only-of-type {\n",
              "        vertical-align: middle;\n",
              "    }\n",
              "\n",
              "    .dataframe tbody tr th {\n",
              "        vertical-align: top;\n",
              "    }\n",
              "\n",
              "    .dataframe thead th {\n",
              "        text-align: right;\n",
              "    }\n",
              "</style>\n",
              "<table border=\"1\" class=\"dataframe\">\n",
              "  <thead>\n",
              "    <tr style=\"text-align: right;\">\n",
              "      <th></th>\n",
              "      <th>city</th>\n",
              "      <th>latitude</th>\n",
              "      <th>longitude</th>\n",
              "    </tr>\n",
              "  </thead>\n",
              "  <tbody>\n",
              "    <tr>\n",
              "      <th>0</th>\n",
              "      <td>Istanbul</td>\n",
              "      <td>41.008</td>\n",
              "      <td>28.978</td>\n",
              "    </tr>\n",
              "    <tr>\n",
              "      <th>1</th>\n",
              "      <td>Sofia</td>\n",
              "      <td>42.697</td>\n",
              "      <td>23.321</td>\n",
              "    </tr>\n",
              "  </tbody>\n",
              "</table>\n",
              "</div>\n",
              "      <button class=\"colab-df-convert\" onclick=\"convertToInteractive('df-3fa49574-5849-414d-a04e-844708e57344')\"\n",
              "              title=\"Convert this dataframe to an interactive table.\"\n",
              "              style=\"display:none;\">\n",
              "        \n",
              "  <svg xmlns=\"http://www.w3.org/2000/svg\" height=\"24px\"viewBox=\"0 0 24 24\"\n",
              "       width=\"24px\">\n",
              "    <path d=\"M0 0h24v24H0V0z\" fill=\"none\"/>\n",
              "    <path d=\"M18.56 5.44l.94 2.06.94-2.06 2.06-.94-2.06-.94-.94-2.06-.94 2.06-2.06.94zm-11 1L8.5 8.5l.94-2.06 2.06-.94-2.06-.94L8.5 2.5l-.94 2.06-2.06.94zm10 10l.94 2.06.94-2.06 2.06-.94-2.06-.94-.94-2.06-.94 2.06-2.06.94z\"/><path d=\"M17.41 7.96l-1.37-1.37c-.4-.4-.92-.59-1.43-.59-.52 0-1.04.2-1.43.59L10.3 9.45l-7.72 7.72c-.78.78-.78 2.05 0 2.83L4 21.41c.39.39.9.59 1.41.59.51 0 1.02-.2 1.41-.59l7.78-7.78 2.81-2.81c.8-.78.8-2.07 0-2.86zM5.41 20L4 18.59l7.72-7.72 1.47 1.35L5.41 20z\"/>\n",
              "  </svg>\n",
              "      </button>\n",
              "      \n",
              "  <style>\n",
              "    .colab-df-container {\n",
              "      display:flex;\n",
              "      flex-wrap:wrap;\n",
              "      gap: 12px;\n",
              "    }\n",
              "\n",
              "    .colab-df-convert {\n",
              "      background-color: #E8F0FE;\n",
              "      border: none;\n",
              "      border-radius: 50%;\n",
              "      cursor: pointer;\n",
              "      display: none;\n",
              "      fill: #1967D2;\n",
              "      height: 32px;\n",
              "      padding: 0 0 0 0;\n",
              "      width: 32px;\n",
              "    }\n",
              "\n",
              "    .colab-df-convert:hover {\n",
              "      background-color: #E2EBFA;\n",
              "      box-shadow: 0px 1px 2px rgba(60, 64, 67, 0.3), 0px 1px 3px 1px rgba(60, 64, 67, 0.15);\n",
              "      fill: #174EA6;\n",
              "    }\n",
              "\n",
              "    [theme=dark] .colab-df-convert {\n",
              "      background-color: #3B4455;\n",
              "      fill: #D2E3FC;\n",
              "    }\n",
              "\n",
              "    [theme=dark] .colab-df-convert:hover {\n",
              "      background-color: #434B5C;\n",
              "      box-shadow: 0px 1px 3px 1px rgba(0, 0, 0, 0.15);\n",
              "      filter: drop-shadow(0px 1px 2px rgba(0, 0, 0, 0.3));\n",
              "      fill: #FFFFFF;\n",
              "    }\n",
              "  </style>\n",
              "\n",
              "      <script>\n",
              "        const buttonEl =\n",
              "          document.querySelector('#df-3fa49574-5849-414d-a04e-844708e57344 button.colab-df-convert');\n",
              "        buttonEl.style.display =\n",
              "          google.colab.kernel.accessAllowed ? 'block' : 'none';\n",
              "\n",
              "        async function convertToInteractive(key) {\n",
              "          const element = document.querySelector('#df-3fa49574-5849-414d-a04e-844708e57344');\n",
              "          const dataTable =\n",
              "            await google.colab.kernel.invokeFunction('convertToInteractive',\n",
              "                                                     [key], {});\n",
              "          if (!dataTable) return;\n",
              "\n",
              "          const docLinkHtml = 'Like what you see? Visit the ' +\n",
              "            '<a target=\"_blank\" href=https://colab.research.google.com/notebooks/data_table.ipynb>data table notebook</a>'\n",
              "            + ' to learn more about interactive tables.';\n",
              "          element.innerHTML = '';\n",
              "          dataTable['output_type'] = 'display_data';\n",
              "          await google.colab.output.renderOutput(dataTable, element);\n",
              "          const docLink = document.createElement('div');\n",
              "          docLink.innerHTML = docLinkHtml;\n",
              "          element.appendChild(docLink);\n",
              "        }\n",
              "      </script>\n",
              "    </div>\n",
              "  </div>\n",
              "  "
            ],
            "text/plain": [
              "       city  latitude  longitude\n",
              "0  Istanbul    41.008     28.978\n",
              "1     Sofia    42.697     23.321"
            ]
          },
          "metadata": {},
          "execution_count": 9
        }
      ]
    },
    {
      "cell_type": "code",
      "source": [
        "#turn pandas dataframe into a geo dataframe. \n",
        "city_geo = gpd.GeoDataFrame(cities_df, \n",
        "                            geometry=gpd.points_from_xy(cities_df.longitude,cities_df.latitude),\n",
        "                            crs=\"EPSG:4326\")\n",
        "\n",
        "city_geo.plot() # the points are actually Sofia and Istanbul :) "
      ],
      "metadata": {
        "colab": {
          "base_uri": "https://localhost:8080/",
          "height": 199
        },
        "id": "gm2bGsi5cPBR",
        "outputId": "37e8f3cc-8e91-4933-acb4-1a1ca95619e5"
      },
      "execution_count": 10,
      "outputs": [
        {
          "output_type": "execute_result",
          "data": {
            "text/plain": [
              "<matplotlib.axes._subplots.AxesSubplot at 0x7f8b22bc7e50>"
            ]
          },
          "metadata": {},
          "execution_count": 10
        },
        {
          "output_type": "display_data",
          "data": {
            "image/png": "[encoded data removed]",
            "text/plain": [
              "<Figure size 432x288 with 1 Axes>"
            ]
          },
          "metadata": {
            "needs_background": "light"
          }
        }
      ]
    },
    {
      "cell_type": "markdown",
      "source": [
        "## Ploting full map"
      ],
      "metadata": {
        "id": "JXgXNDbHcwJP"
      }
    },
    {
      "cell_type": "code",
      "source": [
        "plt.style.use('ggplot')\n",
        "\n",
        "fig, ax= plt.subplots(figsize=(15,10))\n",
        "\n",
        "BUL.plot(ax=ax,color='gray', edgecolor='w',alpha=0.5) #Bulgaria\n",
        "TR.plot(ax=ax, edgecolor='w', alpha=0.5) #Turkey\n",
        "turk_bul.plot(ax=ax,color='r', alpha=0.6) #Turkish minority\n",
        "city_geo.plot(ax=ax, color='k') #city points\n",
        "\n",
        "\n",
        "ax.set_title('Turkish Minority in Bulgaria')\n",
        "ax.axis([20,30, 40,45])\n",
        "ax.set_axis_off()\n",
        "\n",
        "\n",
        "for x, y, label in zip(city_geo.geometry.x, city_geo.geometry.y, city_geo.city):\n",
        "    ax.annotate(label, xy=(x, y), xytext=(3, 3), textcoords=\"offset points\")\n",
        "\n",
        "txt=\"Source: GeoEPR Dataset (Vogt et al. 2015)\"\n",
        "plt.figtext(0.5, 0.05, txt, wrap=True, horizontalalignment='center', fontsize=10);\n",
        "\n",
        "#fig.savefig('Turkish Minority in Bulgaria.pdf')"
      ],
      "metadata": {
        "colab": {
          "base_uri": "https://localhost:8080/",
          "height": 648
        },
        "id": "_6OR8YpAclRa",
        "outputId": "9d9c8069-9c0a-4f54-f209-382e1e2ed549"
      },
      "execution_count": 12,
      "outputs": [
        {
          "output_type": "display_data",
          "data": {
            "image/png": "[encoded data removed]",
            "text/plain": [
              "<Figure size 1080x720 with 1 Axes>"
            ]
          },
          "metadata": {}
        }
      ]
    },
    {
      "cell_type": "markdown",
      "source": [
        "### The end!"
      ],
      "metadata": {
        "id": "3q1DITLqdiBE"
      }
    }
  ]
}
{
 "cells": [
  {
   "cell_type": "markdown",
   "metadata": {},
   "source": [
    "### Oner Yigit"
   ]
  },
  {
   "cell_type": "markdown",
   "metadata": {},
   "source": [
    "Again, sorry that I do not know how to use excel. I did everything manually here. Let me know if anything is confusing."
   ]
  },
  {
   "cell_type": "markdown",
   "metadata": {},
   "source": [
    "### Q1"
   ]
  },
  {
   "cell_type": "markdown",
   "metadata": {},
   "source": [
    "**Mean of Y X Z**"
   ]
  },
  {
   "cell_type": "code",
   "execution_count": 1,
   "metadata": {},
   "outputs": [
    {
     "name": "stdout",
     "output_type": "stream",
     "text": [
      "The mean of Yi is 49.35\n",
      "The mean of Xi is 46.15\n",
      "The mean of Zi is 3.75\n"
     ]
    }
   ],
   "source": [
    "n=20\n",
    "yi_sum=(107+103+3+56+53+78+75+48+59-10+38+83-11+71+58+22+58+29+18+49)\n",
    "\n",
    "xi_sum=(102+66-169+231+84-90+207+26-45-18+216+13-34+147+27+84+149-59-60+46)\n",
    "\n",
    "zi_sum=(13+41+158-173-46+184-124+12+117-5-174+75+19-72+17-74-79+84+88+14)\n",
    "\n",
    "yi_mean= yi_sum/20\n",
    "print(f'The mean of Yi is {yi_mean}')\n",
    "xi_mean= xi_sum/20\n",
    "print(f'The mean of Xi is {xi_mean}')\n",
    "zi_mean= zi_sum/20\n",
    "print(f'The mean of Zi is {zi_mean}')"
   ]
  },
  {
   "cell_type": "markdown",
   "metadata": {},
   "source": [
    "### Q2"
   ]
  },
  {
   "cell_type": "markdown",
   "metadata": {},
   "source": [
    "**Median of Y X Z**"
   ]
  },
  {
   "cell_type": "code",
   "execution_count": 2,
   "metadata": {},
   "outputs": [
    {
     "name": "stdout",
     "output_type": "stream",
     "text": [
      "The median of yi is 54.5\n",
      "The median of xi is 36.5\n",
      "The median of zi is 54.5\n"
     ]
    }
   ],
   "source": [
    "yi_list=[107,103,3,56,53,78,75,48,59,-10,38,83,-11,71,58,22,58,29,18,49]\n",
    "yi_list.sort()\n",
    "\n",
    "xi_list=[102,66,-169,231,84,-90,207,26,-45,-18,216,13,-34,147,27,84,149,-59,-60,46]\n",
    "xi_list.sort()\n",
    "\n",
    "zi_list=[13,41,158,-173,-46,184,-124,12,117,-5,-174,75,19,-72,17,-74,-79,84,88,14]\n",
    "zi_list.sort()\n",
    "\n",
    "\n",
    "#I basicially say take two sorted middle numbers and divide by 2\n",
    "#because datapoints is even\n",
    "yi_median=sum(yi_list[9:11])/2\n",
    "print(f'The median of yi is {yi_median}')\n",
    "xi_median=sum(xi_list[9:11])/2\n",
    "print(f'The median of xi is {xi_median}')\n",
    "zi_median=sum(yi_list[9:11])/2\n",
    "print(f'The median of zi is {zi_median}')\n"
   ]
  },
  {
   "cell_type": "markdown",
   "metadata": {},
   "source": [
    "### Q3"
   ]
  },
  {
   "cell_type": "markdown",
   "metadata": {},
   "source": [
    "**The variance & standard deviation of Yi, Xi, and Zi**"
   ]
  },
  {
   "cell_type": "code",
   "execution_count": 3,
   "metadata": {},
   "outputs": [
    {
     "name": "stdout",
     "output_type": "stream",
     "text": [
      "The variance of yi is 1114.2394736842105\n",
      "The variance of xi is 11783.607894736842\n",
      "The variance of zi is 10006.092105263158\n",
      "\n",
      "The standard daviation of yi is 33.3802257883947\n",
      "The standard daviation of xi is 108.55232791026106\n",
      "The standard daviation of zi is 100.03045588851006\n"
     ]
    }
   ],
   "source": [
    "yi_list=[107,103,3,56,53,78,75,48,59,-10,38,83,-11,71,58,22,58,29,18,49]\n",
    "xi_list=[102,66,-169,231,84,-90,207,26,-45,-18,216,13,-34,147,27,84,149,-59,-60,46]\n",
    "zi_list=[13,41,158,-173,-46,184,-124,12,117,-5,-174,75,19,-72,17,-74,-79,84,88,14]\n",
    "\n",
    "#I subtract mean from datapoints.\n",
    "yi_list_d=[i - yi_mean for i in yi_list]\n",
    "xi_list_d=[i - xi_mean for i in xi_list]\n",
    "zi_list_d=[i - zi_mean for i in zi_list]\n",
    "\n",
    "#I square (yi-yhat)\n",
    "yi_d_square=[i**2 for i in yi_list_d]\n",
    "xi_d_square=[i**2 for i in xi_list_d]\n",
    "zi_d_square=[i**2 for i in zi_list_d]\n",
    "\n",
    "#I sum squared values and divide them n-1 to find variance.\n",
    "variance_yi=(sum(yi_d_square))/19\n",
    "variance_xi=(sum(xi_d_square))/19\n",
    "variance_zi=(sum(zi_d_square))/19\n",
    "print(f'The variance of yi is {variance_yi}')\n",
    "print(f'The variance of xi is {variance_xi}')\n",
    "print(f'The variance of zi is {variance_zi}')\n",
    "\n",
    "#standard daviations: square roots of variance\n",
    "std_yi=(variance_yi)**0.5\n",
    "std_xi=(variance_xi)**0.5\n",
    "std_zi=(variance_zi)**0.5\n",
    "print('')\n",
    "print(f'The standard daviation of yi is {std_yi}')\n",
    "print(f'The standard daviation of xi is {std_xi}')\n",
    "print(f'The standard daviation of zi is {std_zi}')"
   ]
  },
  {
   "cell_type": "markdown",
   "metadata": {},
   "source": [
    "### Q4"
   ]
  },
  {
   "cell_type": "markdown",
   "metadata": {},
   "source": [
    "**The standard error of the mean of Yi, Xi, and Zi**"
   ]
  },
  {
   "cell_type": "code",
   "execution_count": 4,
   "metadata": {},
   "outputs": [
    {
     "name": "stdout",
     "output_type": "stream",
     "text": [
      "Standard error of the mean of yi is 7.464045396714205\n",
      "Standard error of the mean of xi is 24.27303843231914\n",
      "Standard error of the mean of zi is 22.36748991870026\n",
      "\n",
      "The 95% interval around the mean of yi is 34.72047102244016 --- 63.979528977559845\n",
      "The 95% interval around the mean of xi is -1.4251553273455144 --- 93.7251553273455\n",
      "The 95% interval around the mean of zi is -40.09028024065251 --- 47.59028024065251\n"
     ]
    }
   ],
   "source": [
    "#lets take square root of n first\n",
    "sqroot_n=20**0.5\n",
    "\n",
    "std_error_yi=std_yi/sqroot_n\n",
    "std_error_xi=std_xi/sqroot_n\n",
    "std_error_zi=std_zi/sqroot_n\n",
    "print(f'Standard error of the mean of yi is {std_error_yi}')\n",
    "print(f'Standard error of the mean of xi is {std_error_xi}')\n",
    "print(f'Standard error of the mean of zi is {std_error_zi}')\n",
    "print('')\n",
    "\n",
    "# 95% confidence interval z score: 1.96\n",
    "\n",
    "#Constructing confidence interval\n",
    "yi_lower=yi_mean-1.96*std_error_yi\n",
    "yi_upper=yi_mean+1.96*std_error_yi\n",
    "xi_lower=xi_mean-1.96*std_error_xi\n",
    "xi_upper=xi_mean+1.96*std_error_xi\n",
    "zi_lower=zi_mean-1.96*std_error_zi\n",
    "zi_upper=zi_mean+1.96*std_error_zi\n",
    "\n",
    "print (f'The 95% interval around the mean of yi is {yi_lower} --- {yi_upper}')\n",
    "print (f'The 95% interval around the mean of xi is {xi_lower} --- {xi_upper}')\n",
    "print (f'The 95% interval around the mean of zi is {zi_lower} --- {zi_upper}')\n"
   ]
  },
  {
   "cell_type": "markdown",
   "metadata": {},
   "source": [
    "The confidence interval tells us that we are 95% confident that\n",
    "specified true means and the difference between the true means\n",
    "lie in these intervals. With providing confidence intervals we leave some room for uncertainty when we estimate population parameters. If we calculate a confidence interval from 100 different samples, about 95 of them would contain the true population mean."
   ]
  },
  {
   "cell_type": "markdown",
   "metadata": {},
   "source": [
    "### Q5"
   ]
  },
  {
   "cell_type": "markdown",
   "metadata": {},
   "source": [
    "**The slope coefficient for the bivariate regression of Yi on Xi**"
   ]
  },
  {
   "cell_type": "code",
   "execution_count": 5,
   "metadata": {},
   "outputs": [
    {
     "name": "stdout",
     "output_type": "stream",
     "text": [
      "The slope coefficient for bivariate regression of Yi on Xi is 0.124785077218107\n"
     ]
    }
   ],
   "source": [
    "slope=(sum([a*b for a,b in zip(yi_list_d, xi_list_d)]))/sum(xi_d_square)\n",
    "\n",
    "\n",
    "print(f'The slope coefficient for bivariate regression of Yi on Xi is {slope}')"
   ]
  },
  {
   "cell_type": "markdown",
   "metadata": {},
   "source": [
    "### Q6"
   ]
  },
  {
   "cell_type": "markdown",
   "metadata": {},
   "source": [
    "**The intercept coefficient for the bivariate regression of Yi on Xi**"
   ]
  },
  {
   "cell_type": "code",
   "execution_count": 6,
   "metadata": {},
   "outputs": [
    {
     "name": "stdout",
     "output_type": "stream",
     "text": [
      "The intercept coefficient for bivariate regression of Yi on Xi is 43.591168686384364\n"
     ]
    }
   ],
   "source": [
    "intercept=yi_mean-slope*xi_mean\n",
    "print(f'The intercept coefficient for bivariate regression of Yi on Xi is {intercept}')"
   ]
  },
  {
   "cell_type": "markdown",
   "metadata": {},
   "source": [
    "### Q7"
   ]
  },
  {
   "cell_type": "markdown",
   "metadata": {},
   "source": [
    "**The RMSE and R-squared statistics for the bivariate regression of Yi on Xi**"
   ]
  },
  {
   "cell_type": "code",
   "execution_count": 7,
   "metadata": {},
   "outputs": [
    {
     "name": "stdout",
     "output_type": "stream",
     "text": [
      "The RMSE for bivariate regression of Yi on Xi is 29.735761930657162\n",
      "\n",
      "The model sum of squares is 3486.239248065613\n",
      "\n",
      "The total sum of squares is 21170.55\n",
      "\n",
      "The R-squared is 0.16467400459910644\n"
     ]
    }
   ],
   "source": [
    "y_hat=[(i*slope+intercept) for i in xi_list] #predicted Y values\n",
    "\n",
    "u=[a-b for a, b in zip(yi_list,y_hat)] # error of estimate yi-yhat\n",
    "\n",
    "sum_of_sq_error=sum([i**2 for i in u])\n",
    "\n",
    "RMSE=(sum_of_sq_error/20)**0.5\n",
    "\n",
    "print(f'The RMSE for bivariate regression of Yi on Xi is {RMSE}')\n",
    "print('')\n",
    "\n",
    "MSS=sum([(a-yi_mean)**2 for a in y_hat])\n",
    "print(f'The model sum of squares is {MSS}')\n",
    "print('')\n",
    "\n",
    "\n",
    "TSS=sum([(a-yi_mean)**2 for a in yi_list])\n",
    "print(f'The total sum of squares is {TSS}')\n",
    "print('')\n",
    "\n",
    "r_squared=MSS/TSS\n",
    "print(f'The R-squared is {r_squared}')"
   ]
  },
  {
   "cell_type": "markdown",
   "metadata": {},
   "source": [
    "### Q8"
   ]
  },
  {
   "cell_type": "markdown",
   "metadata": {},
   "source": [
    "**Two-tailed hypothesis test for the slope coefficient from the bivariate regression of Yi on Xi**"
   ]
  },
  {
   "cell_type": "code",
   "execution_count": 8,
   "metadata": {},
   "outputs": [
    {
     "name": "stdout",
     "output_type": "stream",
     "text": [
      "Estimated error variance is 882.2155375967197\n",
      "\n",
      "Variance error for b-hat is 0.003940422757647588\n",
      "\n",
      "Standard error for b-hat is 0.06277278676024817\n",
      "\n",
      "t-statistics is 1.9878849364248565\n"
     ]
    }
   ],
   "source": [
    "est_err_var=sum_of_sq_error/n-2\n",
    "print(f'Estimated error variance is {est_err_var}')\n",
    "print('')\n",
    "\n",
    "var_err=est_err_var/sum(xi_d_square)\n",
    "\n",
    "print(f'Variance error for b-hat is {var_err}')\n",
    "print('')\n",
    "\n",
    "se_b_hat=var_err**0.5\n",
    "print(f'Standard error for b-hat is {se_b_hat}')\n",
    "print('')\n",
    "\n",
    "b_star=0\n",
    "tn_k=(slope-b_star)/se_b_hat\n",
    "print(f't-statistics is {tn_k}')"
   ]
  },
  {
   "cell_type": "markdown",
   "metadata": {},
   "source": [
    "We test whether or not slope equals to zero to understand\n",
    "whether there is a relaitonship between X and Y.\n",
    "We cannot reject the null hypothesis because n-2 is 18 and for two tailed and at 95% p value t-distribution shows the t-value needs to be 2.101, which we found 1.98. Therefore, I conclude that we cannot reject the null hypothesis, which is slope equals to zero.  "
   ]
  },
  {
   "cell_type": "markdown",
   "metadata": {},
   "source": [
    "### Q9"
   ]
  },
  {
   "cell_type": "markdown",
   "metadata": {},
   "source": [
    "**the intercept and slope coefficients for the multiple regression**"
   ]
  },
  {
   "cell_type": "code",
   "execution_count": 9,
   "metadata": {},
   "outputs": [
    {
     "name": "stdout",
     "output_type": "stream",
     "text": [
      "Beta prime hat the independent variables xi and zi is -1.0099544619527843\n",
      "\n",
      "Alpha prime hat is 49.93732923232294\n",
      "\n",
      "Beta star hat is -0.017800997550176674\n",
      "\n",
      "Alpha star hat is 49.416753740813164\n",
      "\n",
      "The slope coefficent of B1 is 0.8181802320156061\n",
      "\n",
      "The slope coefficent of B2 is 1.9468916656363229\n",
      "\n",
      "The intercept coefficient is 4.290138546343568\n"
     ]
    }
   ],
   "source": [
    "yi_list_d=[i - yi_mean for i in yi_list]\n",
    "xi_list_d=[i - xi_mean for i in xi_list]\n",
    "zi_list_d=[i - zi_mean for i in zi_list]\n",
    "\n",
    "b_prime_hat=(sum([a*b for a,b in zip(zi_list_d, xi_list_d)]))/sum(zi_d_square)\n",
    "print(f'Beta prime hat the independent variables xi and zi is {b_prime_hat}')\n",
    "b_prime_hat_zi=[a*b_prime_hat for a in zi_list]\n",
    "\n",
    "\n",
    "alpha_hat_prime=xi_mean-b_prime_hat*zi_mean\n",
    "print('')\n",
    "print(f'Alpha prime hat is {alpha_hat_prime}')\n",
    "\n",
    "xi_hat=[alpha_hat_prime+a for a in b_prime_hat_zi]\n",
    "ei_hat=[a-b for a,b in zip(xi_list,xi_hat)]\n",
    "\n",
    "b_star_hat=(sum([a*b for a,b in zip(zi_list_d, yi_list_d)]))/sum(zi_d_square)\n",
    "print('')\n",
    "print(f'Beta star hat is {b_star_hat}')\n",
    "print('')\n",
    "\n",
    "alpha_star_hat=yi_mean-b_star_hat*zi_mean\n",
    "print(f'Alpha star hat is {alpha_star_hat}')\n",
    "print('')\n",
    "\n",
    "\n",
    "b_star_hat_zi=[a*b_star_hat for a in zi_list]\n",
    "yi_star_hat=[alpha_star_hat+a for a in b_star_hat_zi]\n",
    "ui_hat=[a-b for a,b in zip(yi_list,yi_star_hat)]\n",
    "\n",
    "#b1_hat\n",
    "b1_hat=(sum([a*b for a,b in zip(ei_hat, ui_hat)]))/(sum([a**2 for a in ei_hat]))\n",
    "print(f'The slope coefficent of B1 is {b1_hat}')\n",
    "print('')\n",
    "\n",
    "#b2_hat\n",
    "b_prime_hat_xi=[a*b_prime_hat for a in xi_list]\n",
    "zi_hat=[alpha_hat_prime+a for a in b_prime_hat_xi]\n",
    "ei_hat_prime=[a-b for a,b in zip(zi_list, zi_hat)]\n",
    "\n",
    "b_prime_hat_yi=[a*b_prime_hat for a in xi_list]\n",
    "yi_hat=[alpha_hat_prime+a for a in b_prime_hat_yi]\n",
    "ui_hat_prime=[a-b for a,b in zip(yi_list, yi_hat)]\n",
    "\n",
    "b2_hat=sum([a*b for a,b in zip(ei_hat_prime,ui_hat_prime)])/sum([a**2 for a in ei_hat_prime])\n",
    "print(f'The slope coefficent of B2 is {b2_hat}')\n",
    "print('')\n",
    "\n",
    "alpha_hat= yi_mean-b1_hat*xi_mean-b2_hat*zi_mean\n",
    "print(f'The intercept coefficient is {alpha_hat}')"
   ]
  },
  {
   "cell_type": "markdown",
   "metadata": {},
   "source": [
    " "
   ]
  },
  {
   "cell_type": "markdown",
   "metadata": {},
   "source": [
    "**The End!**"
   ]
  }
 ],
 "metadata": {
  "kernelspec": {
   "display_name": "Python 3",
   "language": "python",
   "name": "python3"
  },
  "language_info": {
   "codemirror_mode": {
    "name": "ipython",
    "version": 3
   },
   "file_extension": ".py",
   "mimetype": "text/x-python",
   "name": "python",
   "nbconvert_exporter": "python",
   "pygments_lexer": "ipython3",
   "version": "3.8.3"
  }
 },
 "nbformat": 4,
 "nbformat_minor": 4
}
